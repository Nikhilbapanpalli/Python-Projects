{
  "nbformat": 4,
  "nbformat_minor": 0,
  "metadata": {
    "colab": {
      "name": "Sigmoid_neuron.ipynb",
      "provenance": []
    },
    "kernelspec": {
      "name": "python3",
      "display_name": "Python 3"
    },
    "widgets": {
      "application/vnd.jupyter.widget-state+json": {
        "e49b078b8e484a5eada6f432c2ce5b36": {
          "model_module": "@jupyter-widgets/controls",
          "model_name": "HBoxModel",
          "model_module_version": "1.5.0",
          "state": {
            "_view_name": "HBoxView",
            "_dom_classes": [],
            "_model_name": "HBoxModel",
            "_view_module": "@jupyter-widgets/controls",
            "_model_module_version": "1.5.0",
            "_view_count": null,
            "_view_module_version": "1.5.0",
            "box_style": "",
            "layout": "IPY_MODEL_89dcff6e78af44999472c597f3b07d0b",
            "_model_module": "@jupyter-widgets/controls",
            "children": [
              "IPY_MODEL_f2f005b3511b44bf9273c9380273932e",
              "IPY_MODEL_b082b42150eb4e6abe5b025e83851ab5"
            ]
          }
        },
        "89dcff6e78af44999472c597f3b07d0b": {
          "model_module": "@jupyter-widgets/base",
          "model_name": "LayoutModel",
          "model_module_version": "1.2.0",
          "state": {
            "_view_name": "LayoutView",
            "grid_template_rows": null,
            "right": null,
            "justify_content": null,
            "_view_module": "@jupyter-widgets/base",
            "overflow": null,
            "_model_module_version": "1.2.0",
            "_view_count": null,
            "flex_flow": null,
            "width": null,
            "min_width": null,
            "border": null,
            "align_items": null,
            "bottom": null,
            "_model_module": "@jupyter-widgets/base",
            "top": null,
            "grid_column": null,
            "overflow_y": null,
            "overflow_x": null,
            "grid_auto_flow": null,
            "grid_area": null,
            "grid_template_columns": null,
            "flex": null,
            "_model_name": "LayoutModel",
            "justify_items": null,
            "grid_row": null,
            "max_height": null,
            "align_content": null,
            "visibility": null,
            "align_self": null,
            "height": null,
            "min_height": null,
            "padding": null,
            "grid_auto_rows": null,
            "grid_gap": null,
            "max_width": null,
            "order": null,
            "_view_module_version": "1.2.0",
            "grid_template_areas": null,
            "object_position": null,
            "object_fit": null,
            "grid_auto_columns": null,
            "margin": null,
            "display": null,
            "left": null
          }
        },
        "f2f005b3511b44bf9273c9380273932e": {
          "model_module": "@jupyter-widgets/controls",
          "model_name": "FloatProgressModel",
          "model_module_version": "1.5.0",
          "state": {
            "_view_name": "ProgressView",
            "style": "IPY_MODEL_dbacc40030a44fbea4229377dea0ed01",
            "_dom_classes": [],
            "description": "100%",
            "_model_name": "FloatProgressModel",
            "bar_style": "success",
            "max": 2000,
            "_view_module": "@jupyter-widgets/controls",
            "_model_module_version": "1.5.0",
            "value": 2000,
            "_view_count": null,
            "_view_module_version": "1.5.0",
            "orientation": "horizontal",
            "min": 0,
            "description_tooltip": null,
            "_model_module": "@jupyter-widgets/controls",
            "layout": "IPY_MODEL_75c7ad54dd75439691793c13ae848fd4"
          }
        },
        "b082b42150eb4e6abe5b025e83851ab5": {
          "model_module": "@jupyter-widgets/controls",
          "model_name": "HTMLModel",
          "model_module_version": "1.5.0",
          "state": {
            "_view_name": "HTMLView",
            "style": "IPY_MODEL_c11f5bdd79d145db9f648e77ca064639",
            "_dom_classes": [],
            "description": "",
            "_model_name": "HTMLModel",
            "placeholder": "​",
            "_view_module": "@jupyter-widgets/controls",
            "_model_module_version": "1.5.0",
            "value": " 2000/2000 [00:23&lt;00:00, 84.51epochs/s]",
            "_view_count": null,
            "_view_module_version": "1.5.0",
            "description_tooltip": null,
            "_model_module": "@jupyter-widgets/controls",
            "layout": "IPY_MODEL_0ee7796517c04955bad0b353639741f4"
          }
        },
        "dbacc40030a44fbea4229377dea0ed01": {
          "model_module": "@jupyter-widgets/controls",
          "model_name": "ProgressStyleModel",
          "model_module_version": "1.5.0",
          "state": {
            "_view_name": "StyleView",
            "_model_name": "ProgressStyleModel",
            "description_width": "initial",
            "_view_module": "@jupyter-widgets/base",
            "_model_module_version": "1.5.0",
            "_view_count": null,
            "_view_module_version": "1.2.0",
            "bar_color": null,
            "_model_module": "@jupyter-widgets/controls"
          }
        },
        "75c7ad54dd75439691793c13ae848fd4": {
          "model_module": "@jupyter-widgets/base",
          "model_name": "LayoutModel",
          "model_module_version": "1.2.0",
          "state": {
            "_view_name": "LayoutView",
            "grid_template_rows": null,
            "right": null,
            "justify_content": null,
            "_view_module": "@jupyter-widgets/base",
            "overflow": null,
            "_model_module_version": "1.2.0",
            "_view_count": null,
            "flex_flow": null,
            "width": null,
            "min_width": null,
            "border": null,
            "align_items": null,
            "bottom": null,
            "_model_module": "@jupyter-widgets/base",
            "top": null,
            "grid_column": null,
            "overflow_y": null,
            "overflow_x": null,
            "grid_auto_flow": null,
            "grid_area": null,
            "grid_template_columns": null,
            "flex": null,
            "_model_name": "LayoutModel",
            "justify_items": null,
            "grid_row": null,
            "max_height": null,
            "align_content": null,
            "visibility": null,
            "align_self": null,
            "height": null,
            "min_height": null,
            "padding": null,
            "grid_auto_rows": null,
            "grid_gap": null,
            "max_width": null,
            "order": null,
            "_view_module_version": "1.2.0",
            "grid_template_areas": null,
            "object_position": null,
            "object_fit": null,
            "grid_auto_columns": null,
            "margin": null,
            "display": null,
            "left": null
          }
        },
        "c11f5bdd79d145db9f648e77ca064639": {
          "model_module": "@jupyter-widgets/controls",
          "model_name": "DescriptionStyleModel",
          "model_module_version": "1.5.0",
          "state": {
            "_view_name": "StyleView",
            "_model_name": "DescriptionStyleModel",
            "description_width": "",
            "_view_module": "@jupyter-widgets/base",
            "_model_module_version": "1.5.0",
            "_view_count": null,
            "_view_module_version": "1.2.0",
            "_model_module": "@jupyter-widgets/controls"
          }
        },
        "0ee7796517c04955bad0b353639741f4": {
          "model_module": "@jupyter-widgets/base",
          "model_name": "LayoutModel",
          "model_module_version": "1.2.0",
          "state": {
            "_view_name": "LayoutView",
            "grid_template_rows": null,
            "right": null,
            "justify_content": null,
            "_view_module": "@jupyter-widgets/base",
            "overflow": null,
            "_model_module_version": "1.2.0",
            "_view_count": null,
            "flex_flow": null,
            "width": null,
            "min_width": null,
            "border": null,
            "align_items": null,
            "bottom": null,
            "_model_module": "@jupyter-widgets/base",
            "top": null,
            "grid_column": null,
            "overflow_y": null,
            "overflow_x": null,
            "grid_auto_flow": null,
            "grid_area": null,
            "grid_template_columns": null,
            "flex": null,
            "_model_name": "LayoutModel",
            "justify_items": null,
            "grid_row": null,
            "max_height": null,
            "align_content": null,
            "visibility": null,
            "align_self": null,
            "height": null,
            "min_height": null,
            "padding": null,
            "grid_auto_rows": null,
            "grid_gap": null,
            "max_width": null,
            "order": null,
            "_view_module_version": "1.2.0",
            "grid_template_areas": null,
            "object_position": null,
            "object_fit": null,
            "grid_auto_columns": null,
            "margin": null,
            "display": null,
            "left": null
          }
        },
        "198202860ee54b3c9b2a9465996ae59e": {
          "model_module": "@jupyter-widgets/controls",
          "model_name": "HBoxModel",
          "model_module_version": "1.5.0",
          "state": {
            "_view_name": "HBoxView",
            "_dom_classes": [],
            "_model_name": "HBoxModel",
            "_view_module": "@jupyter-widgets/controls",
            "_model_module_version": "1.5.0",
            "_view_count": null,
            "_view_module_version": "1.5.0",
            "box_style": "",
            "layout": "IPY_MODEL_33844bdb663142e49defe807c1e62c4e",
            "_model_module": "@jupyter-widgets/controls",
            "children": [
              "IPY_MODEL_319db3d2644b4e8282f91c3dc700c1bb",
              "IPY_MODEL_a81108bde4e8469dbaae270a40571b29"
            ]
          }
        },
        "33844bdb663142e49defe807c1e62c4e": {
          "model_module": "@jupyter-widgets/base",
          "model_name": "LayoutModel",
          "model_module_version": "1.2.0",
          "state": {
            "_view_name": "LayoutView",
            "grid_template_rows": null,
            "right": null,
            "justify_content": null,
            "_view_module": "@jupyter-widgets/base",
            "overflow": null,
            "_model_module_version": "1.2.0",
            "_view_count": null,
            "flex_flow": null,
            "width": null,
            "min_width": null,
            "border": null,
            "align_items": null,
            "bottom": null,
            "_model_module": "@jupyter-widgets/base",
            "top": null,
            "grid_column": null,
            "overflow_y": null,
            "overflow_x": null,
            "grid_auto_flow": null,
            "grid_area": null,
            "grid_template_columns": null,
            "flex": null,
            "_model_name": "LayoutModel",
            "justify_items": null,
            "grid_row": null,
            "max_height": null,
            "align_content": null,
            "visibility": null,
            "align_self": null,
            "height": null,
            "min_height": null,
            "padding": null,
            "grid_auto_rows": null,
            "grid_gap": null,
            "max_width": null,
            "order": null,
            "_view_module_version": "1.2.0",
            "grid_template_areas": null,
            "object_position": null,
            "object_fit": null,
            "grid_auto_columns": null,
            "margin": null,
            "display": null,
            "left": null
          }
        },
        "319db3d2644b4e8282f91c3dc700c1bb": {
          "model_module": "@jupyter-widgets/controls",
          "model_name": "FloatProgressModel",
          "model_module_version": "1.5.0",
          "state": {
            "_view_name": "ProgressView",
            "style": "IPY_MODEL_ae75ad7e1e9c4755bd9356d725828789",
            "_dom_classes": [],
            "description": "100%",
            "_model_name": "FloatProgressModel",
            "bar_style": "success",
            "max": 5000,
            "_view_module": "@jupyter-widgets/controls",
            "_model_module_version": "1.5.0",
            "value": 5000,
            "_view_count": null,
            "_view_module_version": "1.5.0",
            "orientation": "horizontal",
            "min": 0,
            "description_tooltip": null,
            "_model_module": "@jupyter-widgets/controls",
            "layout": "IPY_MODEL_5c8ff51859ec464082ac98c5bb464ec4"
          }
        },
        "a81108bde4e8469dbaae270a40571b29": {
          "model_module": "@jupyter-widgets/controls",
          "model_name": "HTMLModel",
          "model_module_version": "1.5.0",
          "state": {
            "_view_name": "HTMLView",
            "style": "IPY_MODEL_c1f68769a4f146f38ed3975599ba4a2c",
            "_dom_classes": [],
            "description": "",
            "_model_name": "HTMLModel",
            "placeholder": "​",
            "_view_module": "@jupyter-widgets/controls",
            "_model_module_version": "1.5.0",
            "value": " 5000/5000 [00:51&lt;00:00, 97.96epochs/s]",
            "_view_count": null,
            "_view_module_version": "1.5.0",
            "description_tooltip": null,
            "_model_module": "@jupyter-widgets/controls",
            "layout": "IPY_MODEL_21e670bca744461e9406a8232eec7831"
          }
        },
        "ae75ad7e1e9c4755bd9356d725828789": {
          "model_module": "@jupyter-widgets/controls",
          "model_name": "ProgressStyleModel",
          "model_module_version": "1.5.0",
          "state": {
            "_view_name": "StyleView",
            "_model_name": "ProgressStyleModel",
            "description_width": "initial",
            "_view_module": "@jupyter-widgets/base",
            "_model_module_version": "1.5.0",
            "_view_count": null,
            "_view_module_version": "1.2.0",
            "bar_color": null,
            "_model_module": "@jupyter-widgets/controls"
          }
        },
        "5c8ff51859ec464082ac98c5bb464ec4": {
          "model_module": "@jupyter-widgets/base",
          "model_name": "LayoutModel",
          "model_module_version": "1.2.0",
          "state": {
            "_view_name": "LayoutView",
            "grid_template_rows": null,
            "right": null,
            "justify_content": null,
            "_view_module": "@jupyter-widgets/base",
            "overflow": null,
            "_model_module_version": "1.2.0",
            "_view_count": null,
            "flex_flow": null,
            "width": null,
            "min_width": null,
            "border": null,
            "align_items": null,
            "bottom": null,
            "_model_module": "@jupyter-widgets/base",
            "top": null,
            "grid_column": null,
            "overflow_y": null,
            "overflow_x": null,
            "grid_auto_flow": null,
            "grid_area": null,
            "grid_template_columns": null,
            "flex": null,
            "_model_name": "LayoutModel",
            "justify_items": null,
            "grid_row": null,
            "max_height": null,
            "align_content": null,
            "visibility": null,
            "align_self": null,
            "height": null,
            "min_height": null,
            "padding": null,
            "grid_auto_rows": null,
            "grid_gap": null,
            "max_width": null,
            "order": null,
            "_view_module_version": "1.2.0",
            "grid_template_areas": null,
            "object_position": null,
            "object_fit": null,
            "grid_auto_columns": null,
            "margin": null,
            "display": null,
            "left": null
          }
        },
        "c1f68769a4f146f38ed3975599ba4a2c": {
          "model_module": "@jupyter-widgets/controls",
          "model_name": "DescriptionStyleModel",
          "model_module_version": "1.5.0",
          "state": {
            "_view_name": "StyleView",
            "_model_name": "DescriptionStyleModel",
            "description_width": "",
            "_view_module": "@jupyter-widgets/base",
            "_model_module_version": "1.5.0",
            "_view_count": null,
            "_view_module_version": "1.2.0",
            "_model_module": "@jupyter-widgets/controls"
          }
        },
        "21e670bca744461e9406a8232eec7831": {
          "model_module": "@jupyter-widgets/base",
          "model_name": "LayoutModel",
          "model_module_version": "1.2.0",
          "state": {
            "_view_name": "LayoutView",
            "grid_template_rows": null,
            "right": null,
            "justify_content": null,
            "_view_module": "@jupyter-widgets/base",
            "overflow": null,
            "_model_module_version": "1.2.0",
            "_view_count": null,
            "flex_flow": null,
            "width": null,
            "min_width": null,
            "border": null,
            "align_items": null,
            "bottom": null,
            "_model_module": "@jupyter-widgets/base",
            "top": null,
            "grid_column": null,
            "overflow_y": null,
            "overflow_x": null,
            "grid_auto_flow": null,
            "grid_area": null,
            "grid_template_columns": null,
            "flex": null,
            "_model_name": "LayoutModel",
            "justify_items": null,
            "grid_row": null,
            "max_height": null,
            "align_content": null,
            "visibility": null,
            "align_self": null,
            "height": null,
            "min_height": null,
            "padding": null,
            "grid_auto_rows": null,
            "grid_gap": null,
            "max_width": null,
            "order": null,
            "_view_module_version": "1.2.0",
            "grid_template_areas": null,
            "object_position": null,
            "object_fit": null,
            "grid_auto_columns": null,
            "margin": null,
            "display": null,
            "left": null
          }
        }
      }
    }
  },
  "cells": [
    {
      "cell_type": "markdown",
      "metadata": {
        "id": "vl4Xr_WNm8_P"
      },
      "source": [
        ""
      ]
    },
    {
      "cell_type": "markdown",
      "metadata": {
        "id": "YRivKu_0nPxk"
      },
      "source": [
        "# Plotting_Sigmoid"
      ]
    },
    {
      "cell_type": "markdown",
      "metadata": {
        "id": "bgKYWWcnFfFX"
      },
      "source": [
        "Sigmoid 2d"
      ]
    },
    {
      "cell_type": "code",
      "metadata": {
        "id": "XBuduvWkMwWn"
      },
      "source": [
        "import numpy as np\n",
        "import matplotlib.pyplot as plt\n",
        "import matplotlib.animation as animation\n",
        "from sklearn.metrics import mean_squared_error\n",
        "from tqdm import tqdm_notebook"
      ],
      "execution_count": null,
      "outputs": []
    },
    {
      "cell_type": "code",
      "metadata": {
        "id": "1QTr0lqQClbT"
      },
      "source": [
        "def Sigmoid(x,w,b):\n",
        "  return 1/(1+np.exp(-(w*x+b)))"
      ],
      "execution_count": null,
      "outputs": []
    },
    {
      "cell_type": "code",
      "metadata": {
        "id": "RcO6aRCACzLO",
        "colab": {
          "base_uri": "https://localhost:8080/",
          "height": 34
        },
        "outputId": "7e444dd2-d4e6-463a-eeb0-bd2cde5ecf3b"
      },
      "source": [
        "Sigmoid(1,.5,0)"
      ],
      "execution_count": null,
      "outputs": [
        {
          "output_type": "execute_result",
          "data": {
            "text/plain": [
              "0.6224593312018546"
            ]
          },
          "metadata": {
            "tags": []
          },
          "execution_count": 70
        }
      ]
    },
    {
      "cell_type": "code",
      "metadata": {
        "id": "yCd3vm1YC5Wz",
        "colab": {
          "base_uri": "https://localhost:8080/",
          "height": 265
        },
        "outputId": "248ff56c-3b5a-438b-b3e4-c899872add2e"
      },
      "source": [
        "w=1 #@param {type: \"slider\", min: -2, max: 2}\n",
        "b=-3 #@param {type: \"slider\", min: -5, max: 5}\n",
        "X=np.linspace(-10,10,100)\n",
        "Y=Sigmoid(X,w,b)\n",
        "plt.plot(X,Y)\n",
        "plt.show()"
      ],
      "execution_count": null,
      "outputs": [
        {
          "output_type": "display_data",
          "data": {
            "image/png": "[encoded data removed]",
            "text/plain": [
              "<Figure size 432x288 with 1 Axes>"
            ]
          },
          "metadata": {
            "tags": [],
            "needs_background": "light"
          }
        }
      ]
    },
    {
      "cell_type": "markdown",
      "metadata": {
        "id": "D3Z3gujhFbv7"
      },
      "source": [
        "Sigmoid 3D"
      ]
    },
    {
      "cell_type": "code",
      "metadata": {
        "id": "LHZpSITYDjTC"
      },
      "source": [
        "def Sigmoid_3d(w1,w2,x1,x2,b):\n",
        "  return 1.0/(1.0+np.exp(-(w1*x1+w2*x2+b)))"
      ],
      "execution_count": null,
      "outputs": []
    },
    {
      "cell_type": "code",
      "metadata": {
        "id": "LSfWHCIDF0-V",
        "colab": {
          "base_uri": "https://localhost:8080/",
          "height": 34
        },
        "outputId": "d38e254b-01e0-45d2-a9e5-fa07dececa1b"
      },
      "source": [
        "Sigmoid_3d(1,0,.5,0,0)"
      ],
      "execution_count": null,
      "outputs": [
        {
          "output_type": "execute_result",
          "data": {
            "text/plain": [
              "0.6224593312018546"
            ]
          },
          "metadata": {
            "tags": []
          },
          "execution_count": 73
        }
      ]
    },
    {
      "cell_type": "code",
      "metadata": {
        "id": "SnEOdlg2GG8p"
      },
      "source": [
        "from mpl_toolkits import mplot3d\n",
        "X1=np.linspace(-10,10,100)\n",
        "X2=np.linspace(-10,10,100)\n",
        "XX1,XX2=np.meshgrid(X1,X2)"
      ],
      "execution_count": null,
      "outputs": []
    },
    {
      "cell_type": "code",
      "metadata": {
        "id": "gEpkuMICGday",
        "colab": {
          "base_uri": "https://localhost:8080/",
          "height": 265
        },
        "outputId": "be30c3db-010e-4f6b-9322-890fc369fcb3"
      },
      "source": [
        "w1=.5 #@param {type: \"slider\", min: -2, max: 2}\n",
        "w2=2#@param {type: \"slider\", min: -2, max: 2}\n",
        "b=0#@param {type: \"slider\", min: -2, max: 2}\n",
        "Y=Sigmoid_3d(w1,w2,XX1,XX2,b)\n",
        "fig = plt.figure()\n",
        "ax = plt.axes(projection='3d')\n",
        "ax.plot_surface(XX1, XX2, Y,cmap='viridis', edgecolor='none')\n",
        "ax.set_title('Surface plot')\n",
        "ax.set_xlabel('x1')\n",
        "ax.set_ylabel('x2')\n",
        "ax.set_zlabel('Y')"
      ],
      "execution_count": null,
      "outputs": [
        {
          "output_type": "execute_result",
          "data": {
            "text/plain": [
              "Text(0.5, 0, 'Y')"
            ]
          },
          "metadata": {
            "tags": []
          },
          "execution_count": 75
        },
        {
          "output_type": "display_data",
          "data": {
            "image/png": "[encoded data removed]",
            "text/plain": [
              "<Figure size 432x288 with 1 Axes>"
            ]
          },
          "metadata": {
            "tags": [],
            "needs_background": "light"
          }
        }
      ]
    },
    {
      "cell_type": "code",
      "metadata": {
        "id": "fxhndmjQGnhR",
        "colab": {
          "base_uri": "https://localhost:8080/",
          "height": 248
        },
        "outputId": "dda79030-968c-4205-ae15-c3a445c4baba"
      },
      "source": [
        "ax.view_init(30,270)\n",
        "fig\n",
        "##WE can see that irrespective of value of x1 we have similar curve for all values of X2"
      ],
      "execution_count": null,
      "outputs": [
        {
          "output_type": "execute_result",
          "data": {
            "image/png": "[encoded data removed]",
            "text/plain": [
              "<Figure size 432x288 with 1 Axes>"
            ]
          },
          "metadata": {
            "tags": []
          },
          "execution_count": 76
        }
      ]
    },
    {
      "cell_type": "code",
      "metadata": {
        "id": "IOWZgQusIXU4",
        "colab": {
          "base_uri": "https://localhost:8080/",
          "height": 248
        },
        "outputId": "db3c58ae-64a8-47ba-8846-4b727e22c431"
      },
      "source": [
        "ax.view_init(30,100)\n",
        "fig"
      ],
      "execution_count": null,
      "outputs": [
        {
          "output_type": "execute_result",
          "data": {
            "image/png": "[encoded data removed]",
            "text/plain": [
              "<Figure size 432x288 with 1 Axes>"
            ]
          },
          "metadata": {
            "tags": []
          },
          "execution_count": 77
        }
      ]
    },
    {
      "cell_type": "code",
      "metadata": {
        "id": "n6FU2FbOIoFl"
      },
      "source": [
        "w_unknown=0.5\n",
        "b_unknown=0.25\n",
        "X=np.random.random(25)*20-10\n",
        "Y=Sigmoid(X,w_unknown,b_unknown)"
      ],
      "execution_count": null,
      "outputs": []
    },
    {
      "cell_type": "code",
      "metadata": {
        "id": "L75_62kpKWJS",
        "colab": {
          "base_uri": "https://localhost:8080/",
          "height": 282
        },
        "outputId": "a16abcad-a262-49dd-c30f-30939e29c433"
      },
      "source": [
        "plt.plot(X,Y,\"*\")"
      ],
      "execution_count": null,
      "outputs": [
        {
          "output_type": "execute_result",
          "data": {
            "text/plain": [
              "[<matplotlib.lines.Line2D at 0x7f7e7441cf28>]"
            ]
          },
          "metadata": {
            "tags": []
          },
          "execution_count": 79
        },
        {
          "output_type": "display_data",
          "data": {
            "image/png": "[encoded data removed]",
            "text/plain": [
              "<Figure size 432x288 with 1 Axes>"
            ]
          },
          "metadata": {
            "tags": [],
            "needs_background": "light"
          }
        }
      ]
    },
    {
      "cell_type": "code",
      "metadata": {
        "id": "FR8fX8F6K4sm"
      },
      "source": [
        "def Calculate_loss(X,Y,w_est,b_est):\n",
        "  loss=0\n",
        "  for x,y in zip(X,Y):\n",
        "    loss+=(y-Sigmoid(x,w_est,b_est))**2\n",
        "  return loss"
      ],
      "execution_count": null,
      "outputs": []
    },
    {
      "cell_type": "code",
      "metadata": {
        "id": "O9IAZUwuKemE"
      },
      "source": [
        "w=np.linspace(-1,1,100)\n",
        "b=np.linspace(-1,1,100)\n",
        "WW,BB=np.meshgrid(w,b)\n",
        "LOSS=np.zeros(WW.shape)"
      ],
      "execution_count": null,
      "outputs": []
    },
    {
      "cell_type": "code",
      "metadata": {
        "id": "BWgPa3LxK04e"
      },
      "source": [
        "for i in range(WW.shape[0]):\n",
        "  for j in range(WW.shape[1]):\n",
        "    LOSS[i][j]=Calculate_loss(X,Y,WW[i][j],BB[i][j])"
      ],
      "execution_count": null,
      "outputs": []
    },
    {
      "cell_type": "code",
      "metadata": {
        "id": "xKIKQys-L_sX",
        "colab": {
          "base_uri": "https://localhost:8080/",
          "height": 265
        },
        "outputId": "b3dd5688-78da-4084-8e04-64f3884e535c"
      },
      "source": [
        "fig = plt.figure()\n",
        "ax = plt.axes(projection='3d')\n",
        "ax.plot_surface(WW, BB, LOSS,cmap='viridis', edgecolor='none')\n",
        "ax.set_title('Surface plot')\n",
        "ax.set_xlabel('WW')\n",
        "ax.set_ylabel('BB')\n",
        "ax.set_zlabel('LOSS')"
      ],
      "execution_count": null,
      "outputs": [
        {
          "output_type": "execute_result",
          "data": {
            "text/plain": [
              "Text(0.5, 0, 'LOSS')"
            ]
          },
          "metadata": {
            "tags": []
          },
          "execution_count": 83
        },
        {
          "output_type": "display_data",
          "data": {
            "image/png": "[encoded data removed]",
            "text/plain": [
              "<Figure size 432x288 with 1 Axes>"
            ]
          },
          "metadata": {
            "tags": [],
            "needs_background": "light"
          }
        }
      ]
    },
    {
      "cell_type": "code",
      "metadata": {
        "id": "BGsHUYhoNa_Y"
      },
      "source": [
        "ax.view_init(30,270)\n",
        "##WE can see that irrespective of value of x1 we have similar curve for all values of X2"
      ],
      "execution_count": null,
      "outputs": []
    },
    {
      "cell_type": "code",
      "metadata": {
        "id": "uNMxAVyENhc5"
      },
      "source": [
        "ij=np.argmin(LOSS)"
      ],
      "execution_count": null,
      "outputs": []
    },
    {
      "cell_type": "code",
      "metadata": {
        "id": "28q0m_7fmJaz"
      },
      "source": [
        "i=int(np.floor(ij/LOSS.shape[1]))"
      ],
      "execution_count": null,
      "outputs": []
    },
    {
      "cell_type": "code",
      "metadata": {
        "id": "ejxdlBnWmVNt"
      },
      "source": [
        "j=int(ij-i*LOSS.shape[1])"
      ],
      "execution_count": null,
      "outputs": []
    },
    {
      "cell_type": "code",
      "metadata": {
        "id": "JRo8d_Cbmguz",
        "colab": {
          "base_uri": "https://localhost:8080/",
          "height": 34
        },
        "outputId": "913fc5b0-ec8d-42d5-8a82-f6f755816e77"
      },
      "source": [
        "WW[i,j]"
      ],
      "execution_count": null,
      "outputs": [
        {
          "output_type": "execute_result",
          "data": {
            "text/plain": [
              "0.49494949494949503"
            ]
          },
          "metadata": {
            "tags": []
          },
          "execution_count": 88
        }
      ]
    },
    {
      "cell_type": "code",
      "metadata": {
        "id": "_tfyoC3BmlxV",
        "colab": {
          "base_uri": "https://localhost:8080/",
          "height": 34
        },
        "outputId": "c4a0e39c-bd7e-402a-a8b3-7e5a13552801"
      },
      "source": [
        "BB[i,j]"
      ],
      "execution_count": null,
      "outputs": [
        {
          "output_type": "execute_result",
          "data": {
            "text/plain": [
              "0.2525252525252526"
            ]
          },
          "metadata": {
            "tags": []
          },
          "execution_count": 89
        }
      ]
    },
    {
      "cell_type": "code",
      "metadata": {
        "id": "0GdyXMA5mpBk"
      },
      "source": [
        ""
      ],
      "execution_count": null,
      "outputs": []
    },
    {
      "cell_type": "markdown",
      "metadata": {
        "id": "GxqolUUZnYVx"
      },
      "source": [
        "# Class For Sigmoid"
      ]
    },
    {
      "cell_type": "code",
      "metadata": {
        "id": "rRQVxxlloAss"
      },
      "source": [
        "class sigmoid_neuron:\n",
        "  def __init__(self):\n",
        "    self.w=None\n",
        "    self.b=None\n",
        "  def perceptron(self,x):\n",
        "    return np.dot(x,self.w.T)+self.b\n",
        "  def sigmoid(self,x):\n",
        "    return 1.0/(1.0+np.exp(-x))\n",
        "  def grad_w(self,x,y):\n",
        "    fx=self.sigmoid(self.perceptron(x))\n",
        "    return fx*(1-fx)*(fx-y)*x\n",
        "  def grad_b(self,x,y):\n",
        "    fx=self.sigmoid(self.perceptron(x))\n",
        "    return fx*(1-fx)*(fx-y)\n",
        "  def fit(self,X,Y,eps=0.01,lr=.5,initialise=True,display_loss=False):\n",
        "    if(initialise):\n",
        "      self.w=np.random.randn(1,X.shape[1])\n",
        "      self.b=0\n",
        "    if(display_loss):\n",
        "      loss=[]\n",
        "    for i in tqdm_notebook(range(epochs),total=epochs,unit=\"epochs\"):\n",
        "      dw=0\n",
        "      db=0  \n",
        "      for x,y in zip(X,Y):\n",
        "        dw+=self.grad_w(x,y)\n",
        "        db+=self.grad_b(x,y)\n",
        "      self.w-=lr*dw\n",
        "      self.b-=lr*db\n",
        "      if display_loss:\n",
        "        Y_pred=self.sigmoid(self.perceptron(X))\n",
        "        loss.append(mean_squared_error(Y_pred,Y))\n",
        "    if display_loss:\n",
        "      plt.plot(loss)\n",
        "      plt.xlabel('Epochs')\n",
        "      plt.ylabel('loss')\n",
        "    return (self.w,self.b)\n",
        "  def predict(self,X):\n",
        "    Y_pred=[]\n",
        "    for x in X:\n",
        "      Y_pred.append(self.sigmoid(self.perceptron(x)))\n",
        "    return np.array(Y_pred)"
      ],
      "execution_count": null,
      "outputs": []
    },
    {
      "cell_type": "code",
      "metadata": {
        "id": "AI17YOEWrjbd",
        "colab": {
          "base_uri": "https://localhost:8080/",
          "height": 180
        },
        "outputId": "087156c5-68c4-43f4-a5ab-c8c861ad5018"
      },
      "source": [
        "X=np.array([2,3,4,5,8]).reshape(-1,1)\n",
        "Y=np.array([0.047,0.268,.73,.952,.999]).reshape(-1,1)"
      ],
      "execution_count": null,
      "outputs": [
        {
          "output_type": "error",
          "ename": "NameError",
          "evalue": "ignored",
          "traceback": [
            "\u001b[0;31m---------------------------------------------------------------------------\u001b[0m",
            "\u001b[0;31mNameError\u001b[0m                                 Traceback (most recent call last)",
            "\u001b[0;32m<ipython-input-2-6daf3eb61654>\u001b[0m in \u001b[0;36m<module>\u001b[0;34m()\u001b[0m\n\u001b[0;32m----> 1\u001b[0;31m \u001b[0mX\u001b[0m\u001b[0;34m=\u001b[0m\u001b[0mnp\u001b[0m\u001b[0;34m.\u001b[0m\u001b[0marray\u001b[0m\u001b[0;34m(\u001b[0m\u001b[0;34m[\u001b[0m\u001b[0;36m2\u001b[0m\u001b[0;34m,\u001b[0m\u001b[0;36m3\u001b[0m\u001b[0;34m,\u001b[0m\u001b[0;36m4\u001b[0m\u001b[0;34m,\u001b[0m\u001b[0;36m5\u001b[0m\u001b[0;34m,\u001b[0m\u001b[0;36m8\u001b[0m\u001b[0;34m]\u001b[0m\u001b[0;34m)\u001b[0m\u001b[0;34m.\u001b[0m\u001b[0mreshape\u001b[0m\u001b[0;34m(\u001b[0m\u001b[0;34m-\u001b[0m\u001b[0;36m1\u001b[0m\u001b[0;34m,\u001b[0m\u001b[0;36m1\u001b[0m\u001b[0;34m)\u001b[0m\u001b[0;34m\u001b[0m\u001b[0;34m\u001b[0m\u001b[0m\n\u001b[0m\u001b[1;32m      2\u001b[0m \u001b[0mY\u001b[0m\u001b[0;34m=\u001b[0m\u001b[0mnp\u001b[0m\u001b[0;34m.\u001b[0m\u001b[0marray\u001b[0m\u001b[0;34m(\u001b[0m\u001b[0;34m[\u001b[0m\u001b[0;36m0.047\u001b[0m\u001b[0;34m,\u001b[0m\u001b[0;36m0.268\u001b[0m\u001b[0;34m,\u001b[0m\u001b[0;36m.73\u001b[0m\u001b[0;34m,\u001b[0m\u001b[0;36m.952\u001b[0m\u001b[0;34m,\u001b[0m\u001b[0;36m.999\u001b[0m\u001b[0;34m]\u001b[0m\u001b[0;34m)\u001b[0m\u001b[0;34m.\u001b[0m\u001b[0mreshape\u001b[0m\u001b[0;34m(\u001b[0m\u001b[0;34m-\u001b[0m\u001b[0;36m1\u001b[0m\u001b[0;34m,\u001b[0m\u001b[0;36m1\u001b[0m\u001b[0;34m)\u001b[0m\u001b[0;34m\u001b[0m\u001b[0;34m\u001b[0m\u001b[0m\n",
            "\u001b[0;31mNameError\u001b[0m: name 'np' is not defined"
          ]
        }
      ]
    },
    {
      "cell_type": "code",
      "metadata": {
        "id": "Ju9qnsHAr6Lv"
      },
      "source": [
        "sigm=sigmoid_neuron()"
      ],
      "execution_count": null,
      "outputs": []
    },
    {
      "cell_type": "code",
      "metadata": {
        "id": "mIa8HGInr-QE"
      },
      "source": [
        "sigm.fit(X,Y,100000)"
      ],
      "execution_count": null,
      "outputs": []
    },
    {
      "cell_type": "markdown",
      "metadata": {
        "id": "RwGozy3e_JQl"
      },
      "source": [
        "#### Toy Data"
      ]
    },
    {
      "cell_type": "code",
      "metadata": {
        "id": "TCEUw81IsLAc"
      },
      "source": [
        "X=np.asarray([[2.5,2.5],[4,-1],[1,-4],[-3,1.25],[-2,-4],[1,5]])\n",
        "Y=[1,1,1,0,0,0]"
      ],
      "execution_count": null,
      "outputs": []
    },
    {
      "cell_type": "code",
      "metadata": {
        "id": "XWkgdl_9tcYb"
      },
      "source": [
        "sn=sigmoid_neuron()"
      ],
      "execution_count": null,
      "outputs": []
    },
    {
      "cell_type": "code",
      "metadata": {
        "id": "r6eELAC69wQL"
      },
      "source": [
        "def plot_sns(X,sn):\n",
        "  X1=np.linspace(-10,10,100)\n",
        "  X2=np.linspace(-10,10,100)\n",
        "  XX1,XX2=np.meshgrid(X1,X2)\n",
        "  YY=np.zeros(XX1.shape)\n",
        "  for i in range(X2.size):\n",
        "    for j in range(X1.size):\n",
        "      val=np.asarray([X1[j],X2[i]]);\n",
        "      YY[i,j]=sn.sigmoid(sn.perceptron(val))\n",
        "  plt.contourf(XX1,XX2,YY)\n",
        "  plt.scatter(X[:,0],X[:,1],c=Y)\n",
        "  plt.show()"
      ],
      "execution_count": null,
      "outputs": []
    },
    {
      "cell_type": "code",
      "metadata": {
        "id": "XxeGO7eT9oEt"
      },
      "source": [
        "sn.fit(X,Y)\n",
        "for i in range(20):\n",
        "  plot_sns(X,sn)\n",
        "  sn.fit(X,Y,5,1,False)"
      ],
      "execution_count": null,
      "outputs": []
    },
    {
      "cell_type": "code",
      "metadata": {
        "id": "R_N8j9FH9-Xw"
      },
      "source": [
        "sn.w"
      ],
      "execution_count": null,
      "outputs": []
    },
    {
      "cell_type": "code",
      "metadata": {
        "id": "a5_COxPyCmEa"
      },
      "source": [
        "sn.b"
      ],
      "execution_count": null,
      "outputs": []
    },
    {
      "cell_type": "markdown",
      "metadata": {
        "id": "Dd0oq1eXHeZk"
      },
      "source": [
        "#### HOMEWORK Animation"
      ]
    },
    {
      "cell_type": "code",
      "metadata": {
        "id": "UEYRldJ0CnaT"
      },
      "source": [
        "#### HOMEWORK"
      ],
      "execution_count": null,
      "outputs": []
    },
    {
      "cell_type": "markdown",
      "metadata": {
        "id": "kY3Mm07Jw3lg"
      },
      "source": [
        " # PRACTICAL APPLICATIONS"
      ]
    },
    {
      "cell_type": "code",
      "metadata": {
        "id": "9wrP9F7_yO1I"
      },
      "source": [
        "import pandas as pd\n",
        "data=pd.read_csv(\"/content/mobile_cleaned.csv\")"
      ],
      "execution_count": null,
      "outputs": []
    },
    {
      "cell_type": "code",
      "metadata": {
        "id": "mgn2FOE0zfvA",
        "colab": {
          "base_uri": "https://localhost:8080/",
          "height": 321
        },
        "outputId": "c082335f-de90-4b00-ab66-d755881f39e0"
      },
      "source": [
        "data.head()"
      ],
      "execution_count": null,
      "outputs": [
        {
          "output_type": "execute_result",
          "data": {
            "text/html": [
              "<div>\n",
              "<style scoped>\n",
              "    .dataframe tbody tr th:only-of-type {\n",
              "        vertical-align: middle;\n",
              "    }\n",
              "\n",
              "    .dataframe tbody tr th {\n",
              "        vertical-align: top;\n",
              "    }\n",
              "\n",
              "    .dataframe thead th {\n",
              "        text-align: right;\n",
              "    }\n",
              "</style>\n",
              "<table border=\"1\" class=\"dataframe\">\n",
              "  <thead>\n",
              "    <tr style=\"text-align: right;\">\n",
              "      <th></th>\n",
              "      <th>PhoneId</th>\n",
              "      <th>Pixel Density</th>\n",
              "      <th>Screen Size</th>\n",
              "      <th>Weight</th>\n",
              "      <th>RAM</th>\n",
              "      <th>Processor_frequency</th>\n",
              "      <th>Screen to Body Ratio (calculated)</th>\n",
              "      <th>Height</th>\n",
              "      <th>Internal Memory</th>\n",
              "      <th>Capacity</th>\n",
              "      <th>Resolution</th>\n",
              "      <th>SIM 2_2G</th>\n",
              "      <th>SIM 2_3G</th>\n",
              "      <th>SIM 2_4G</th>\n",
              "      <th>SIM 2_Other</th>\n",
              "      <th>Num_cores_312</th>\n",
              "      <th>Num_cores_Deca</th>\n",
              "      <th>Num_cores_Dual</th>\n",
              "      <th>Num_cores_Hexa</th>\n",
              "      <th>Num_cores_Octa</th>\n",
              "      <th>Num_cores_Other</th>\n",
              "      <th>Num_cores_Quad</th>\n",
              "      <th>Num_cores_Tru-Octa</th>\n",
              "      <th>Brand_10.or</th>\n",
              "      <th>Brand_Apple</th>\n",
              "      <th>Brand_Asus</th>\n",
              "      <th>Brand_Billion</th>\n",
              "      <th>Brand_Blackberry</th>\n",
              "      <th>Brand_Comio</th>\n",
              "      <th>Brand_Coolpad</th>\n",
              "      <th>Brand_Do</th>\n",
              "      <th>Brand_Gionee</th>\n",
              "      <th>Brand_Google</th>\n",
              "      <th>Brand_HTC</th>\n",
              "      <th>Brand_Honor</th>\n",
              "      <th>Brand_Huawei</th>\n",
              "      <th>Brand_InFocus</th>\n",
              "      <th>Brand_Infinix</th>\n",
              "      <th>Brand_Intex</th>\n",
              "      <th>Brand_Itel</th>\n",
              "      <th>...</th>\n",
              "      <th>Brand_Meizu</th>\n",
              "      <th>Brand_Micromax</th>\n",
              "      <th>Brand_Mobiistar</th>\n",
              "      <th>Brand_Moto</th>\n",
              "      <th>Brand_Motorola</th>\n",
              "      <th>Brand_Nokia</th>\n",
              "      <th>Brand_Nubia</th>\n",
              "      <th>Brand_OPPO</th>\n",
              "      <th>Brand_OnePlus</th>\n",
              "      <th>Brand_Oppo</th>\n",
              "      <th>Brand_Panasonic</th>\n",
              "      <th>Brand_Razer</th>\n",
              "      <th>Brand_Realme</th>\n",
              "      <th>Brand_Reliance</th>\n",
              "      <th>Brand_Samsung</th>\n",
              "      <th>Brand_Sony</th>\n",
              "      <th>Brand_Spice</th>\n",
              "      <th>Brand_Tecno</th>\n",
              "      <th>Brand_Ulefone</th>\n",
              "      <th>Brand_VOTO</th>\n",
              "      <th>Brand_Vivo</th>\n",
              "      <th>Brand_Xiaomi</th>\n",
              "      <th>Brand_Xiaomi Poco</th>\n",
              "      <th>Brand_Yu</th>\n",
              "      <th>Brand_iVooMi</th>\n",
              "      <th>os_name_Android</th>\n",
              "      <th>os_name_Blackberry</th>\n",
              "      <th>os_name_KAI</th>\n",
              "      <th>os_name_Nokia</th>\n",
              "      <th>os_name_Other</th>\n",
              "      <th>os_name_Tizen</th>\n",
              "      <th>os_name_iOS</th>\n",
              "      <th>SIM Slot(s)_Dual SIM, GSM+CDMA</th>\n",
              "      <th>SIM Slot(s)_Dual SIM, GSM+GSM</th>\n",
              "      <th>SIM Slot(s)_Dual SIM, GSM+GSM, Dual VoLTE</th>\n",
              "      <th>SIM Slot(s)_Single SIM, GSM</th>\n",
              "      <th>Sim1_2G</th>\n",
              "      <th>Sim1_3G</th>\n",
              "      <th>Sim1_4G</th>\n",
              "      <th>Rating</th>\n",
              "    </tr>\n",
              "  </thead>\n",
              "  <tbody>\n",
              "    <tr>\n",
              "      <th>0</th>\n",
              "      <td>0</td>\n",
              "      <td>403</td>\n",
              "      <td>6.26</td>\n",
              "      <td>182</td>\n",
              "      <td>4</td>\n",
              "      <td>1.8</td>\n",
              "      <td>80.68</td>\n",
              "      <td>157.9</td>\n",
              "      <td>64</td>\n",
              "      <td>4000</td>\n",
              "      <td>20</td>\n",
              "      <td>0</td>\n",
              "      <td>0</td>\n",
              "      <td>1</td>\n",
              "      <td>0</td>\n",
              "      <td>0</td>\n",
              "      <td>0</td>\n",
              "      <td>0</td>\n",
              "      <td>0</td>\n",
              "      <td>1</td>\n",
              "      <td>0</td>\n",
              "      <td>0</td>\n",
              "      <td>0</td>\n",
              "      <td>0</td>\n",
              "      <td>0</td>\n",
              "      <td>0</td>\n",
              "      <td>0</td>\n",
              "      <td>0</td>\n",
              "      <td>0</td>\n",
              "      <td>0</td>\n",
              "      <td>0</td>\n",
              "      <td>0</td>\n",
              "      <td>0</td>\n",
              "      <td>0</td>\n",
              "      <td>0</td>\n",
              "      <td>0</td>\n",
              "      <td>0</td>\n",
              "      <td>0</td>\n",
              "      <td>0</td>\n",
              "      <td>0</td>\n",
              "      <td>...</td>\n",
              "      <td>0</td>\n",
              "      <td>0</td>\n",
              "      <td>0</td>\n",
              "      <td>0</td>\n",
              "      <td>0</td>\n",
              "      <td>0</td>\n",
              "      <td>0</td>\n",
              "      <td>0</td>\n",
              "      <td>0</td>\n",
              "      <td>0</td>\n",
              "      <td>0</td>\n",
              "      <td>0</td>\n",
              "      <td>0</td>\n",
              "      <td>0</td>\n",
              "      <td>0</td>\n",
              "      <td>0</td>\n",
              "      <td>0</td>\n",
              "      <td>0</td>\n",
              "      <td>0</td>\n",
              "      <td>0</td>\n",
              "      <td>0</td>\n",
              "      <td>1</td>\n",
              "      <td>0</td>\n",
              "      <td>0</td>\n",
              "      <td>0</td>\n",
              "      <td>1</td>\n",
              "      <td>0</td>\n",
              "      <td>0</td>\n",
              "      <td>0</td>\n",
              "      <td>0</td>\n",
              "      <td>0</td>\n",
              "      <td>0</td>\n",
              "      <td>0</td>\n",
              "      <td>0</td>\n",
              "      <td>1</td>\n",
              "      <td>0</td>\n",
              "      <td>0</td>\n",
              "      <td>0</td>\n",
              "      <td>1</td>\n",
              "      <td>4.5</td>\n",
              "    </tr>\n",
              "    <tr>\n",
              "      <th>1</th>\n",
              "      <td>1</td>\n",
              "      <td>271</td>\n",
              "      <td>6.20</td>\n",
              "      <td>168</td>\n",
              "      <td>3</td>\n",
              "      <td>1.8</td>\n",
              "      <td>80.85</td>\n",
              "      <td>156.2</td>\n",
              "      <td>32</td>\n",
              "      <td>4230</td>\n",
              "      <td>8</td>\n",
              "      <td>0</td>\n",
              "      <td>0</td>\n",
              "      <td>1</td>\n",
              "      <td>0</td>\n",
              "      <td>0</td>\n",
              "      <td>0</td>\n",
              "      <td>0</td>\n",
              "      <td>0</td>\n",
              "      <td>1</td>\n",
              "      <td>0</td>\n",
              "      <td>0</td>\n",
              "      <td>0</td>\n",
              "      <td>0</td>\n",
              "      <td>0</td>\n",
              "      <td>0</td>\n",
              "      <td>0</td>\n",
              "      <td>0</td>\n",
              "      <td>0</td>\n",
              "      <td>0</td>\n",
              "      <td>0</td>\n",
              "      <td>0</td>\n",
              "      <td>0</td>\n",
              "      <td>0</td>\n",
              "      <td>0</td>\n",
              "      <td>0</td>\n",
              "      <td>0</td>\n",
              "      <td>0</td>\n",
              "      <td>0</td>\n",
              "      <td>0</td>\n",
              "      <td>...</td>\n",
              "      <td>0</td>\n",
              "      <td>0</td>\n",
              "      <td>0</td>\n",
              "      <td>0</td>\n",
              "      <td>0</td>\n",
              "      <td>0</td>\n",
              "      <td>0</td>\n",
              "      <td>0</td>\n",
              "      <td>0</td>\n",
              "      <td>0</td>\n",
              "      <td>0</td>\n",
              "      <td>0</td>\n",
              "      <td>1</td>\n",
              "      <td>0</td>\n",
              "      <td>0</td>\n",
              "      <td>0</td>\n",
              "      <td>0</td>\n",
              "      <td>0</td>\n",
              "      <td>0</td>\n",
              "      <td>0</td>\n",
              "      <td>0</td>\n",
              "      <td>0</td>\n",
              "      <td>0</td>\n",
              "      <td>0</td>\n",
              "      <td>0</td>\n",
              "      <td>1</td>\n",
              "      <td>0</td>\n",
              "      <td>0</td>\n",
              "      <td>0</td>\n",
              "      <td>0</td>\n",
              "      <td>0</td>\n",
              "      <td>0</td>\n",
              "      <td>0</td>\n",
              "      <td>0</td>\n",
              "      <td>1</td>\n",
              "      <td>0</td>\n",
              "      <td>0</td>\n",
              "      <td>0</td>\n",
              "      <td>1</td>\n",
              "      <td>4.5</td>\n",
              "    </tr>\n",
              "    <tr>\n",
              "      <th>2</th>\n",
              "      <td>2</td>\n",
              "      <td>409</td>\n",
              "      <td>6.30</td>\n",
              "      <td>168</td>\n",
              "      <td>3</td>\n",
              "      <td>2.1</td>\n",
              "      <td>83.68</td>\n",
              "      <td>157.0</td>\n",
              "      <td>32</td>\n",
              "      <td>3500</td>\n",
              "      <td>25</td>\n",
              "      <td>0</td>\n",
              "      <td>0</td>\n",
              "      <td>1</td>\n",
              "      <td>0</td>\n",
              "      <td>0</td>\n",
              "      <td>0</td>\n",
              "      <td>0</td>\n",
              "      <td>0</td>\n",
              "      <td>1</td>\n",
              "      <td>0</td>\n",
              "      <td>0</td>\n",
              "      <td>0</td>\n",
              "      <td>0</td>\n",
              "      <td>0</td>\n",
              "      <td>0</td>\n",
              "      <td>0</td>\n",
              "      <td>0</td>\n",
              "      <td>0</td>\n",
              "      <td>0</td>\n",
              "      <td>0</td>\n",
              "      <td>0</td>\n",
              "      <td>0</td>\n",
              "      <td>0</td>\n",
              "      <td>0</td>\n",
              "      <td>0</td>\n",
              "      <td>0</td>\n",
              "      <td>0</td>\n",
              "      <td>0</td>\n",
              "      <td>0</td>\n",
              "      <td>...</td>\n",
              "      <td>0</td>\n",
              "      <td>0</td>\n",
              "      <td>0</td>\n",
              "      <td>0</td>\n",
              "      <td>0</td>\n",
              "      <td>0</td>\n",
              "      <td>0</td>\n",
              "      <td>0</td>\n",
              "      <td>0</td>\n",
              "      <td>0</td>\n",
              "      <td>0</td>\n",
              "      <td>0</td>\n",
              "      <td>1</td>\n",
              "      <td>0</td>\n",
              "      <td>0</td>\n",
              "      <td>0</td>\n",
              "      <td>0</td>\n",
              "      <td>0</td>\n",
              "      <td>0</td>\n",
              "      <td>0</td>\n",
              "      <td>0</td>\n",
              "      <td>0</td>\n",
              "      <td>0</td>\n",
              "      <td>0</td>\n",
              "      <td>0</td>\n",
              "      <td>1</td>\n",
              "      <td>0</td>\n",
              "      <td>0</td>\n",
              "      <td>0</td>\n",
              "      <td>0</td>\n",
              "      <td>0</td>\n",
              "      <td>0</td>\n",
              "      <td>0</td>\n",
              "      <td>0</td>\n",
              "      <td>1</td>\n",
              "      <td>0</td>\n",
              "      <td>0</td>\n",
              "      <td>0</td>\n",
              "      <td>1</td>\n",
              "      <td>4.4</td>\n",
              "    </tr>\n",
              "    <tr>\n",
              "      <th>3</th>\n",
              "      <td>4</td>\n",
              "      <td>411</td>\n",
              "      <td>6.00</td>\n",
              "      <td>169</td>\n",
              "      <td>4</td>\n",
              "      <td>2.2</td>\n",
              "      <td>74.78</td>\n",
              "      <td>159.8</td>\n",
              "      <td>64</td>\n",
              "      <td>3300</td>\n",
              "      <td>24</td>\n",
              "      <td>0</td>\n",
              "      <td>0</td>\n",
              "      <td>1</td>\n",
              "      <td>0</td>\n",
              "      <td>0</td>\n",
              "      <td>0</td>\n",
              "      <td>0</td>\n",
              "      <td>0</td>\n",
              "      <td>1</td>\n",
              "      <td>0</td>\n",
              "      <td>0</td>\n",
              "      <td>0</td>\n",
              "      <td>0</td>\n",
              "      <td>0</td>\n",
              "      <td>0</td>\n",
              "      <td>0</td>\n",
              "      <td>0</td>\n",
              "      <td>0</td>\n",
              "      <td>0</td>\n",
              "      <td>0</td>\n",
              "      <td>0</td>\n",
              "      <td>0</td>\n",
              "      <td>0</td>\n",
              "      <td>0</td>\n",
              "      <td>0</td>\n",
              "      <td>0</td>\n",
              "      <td>0</td>\n",
              "      <td>0</td>\n",
              "      <td>0</td>\n",
              "      <td>...</td>\n",
              "      <td>0</td>\n",
              "      <td>0</td>\n",
              "      <td>0</td>\n",
              "      <td>0</td>\n",
              "      <td>0</td>\n",
              "      <td>0</td>\n",
              "      <td>0</td>\n",
              "      <td>0</td>\n",
              "      <td>0</td>\n",
              "      <td>0</td>\n",
              "      <td>0</td>\n",
              "      <td>0</td>\n",
              "      <td>0</td>\n",
              "      <td>0</td>\n",
              "      <td>1</td>\n",
              "      <td>0</td>\n",
              "      <td>0</td>\n",
              "      <td>0</td>\n",
              "      <td>0</td>\n",
              "      <td>0</td>\n",
              "      <td>0</td>\n",
              "      <td>0</td>\n",
              "      <td>0</td>\n",
              "      <td>0</td>\n",
              "      <td>0</td>\n",
              "      <td>1</td>\n",
              "      <td>0</td>\n",
              "      <td>0</td>\n",
              "      <td>0</td>\n",
              "      <td>0</td>\n",
              "      <td>0</td>\n",
              "      <td>0</td>\n",
              "      <td>0</td>\n",
              "      <td>1</td>\n",
              "      <td>0</td>\n",
              "      <td>0</td>\n",
              "      <td>0</td>\n",
              "      <td>0</td>\n",
              "      <td>1</td>\n",
              "      <td>4.3</td>\n",
              "    </tr>\n",
              "    <tr>\n",
              "      <th>4</th>\n",
              "      <td>5</td>\n",
              "      <td>396</td>\n",
              "      <td>6.50</td>\n",
              "      <td>175</td>\n",
              "      <td>4</td>\n",
              "      <td>2.2</td>\n",
              "      <td>84.23</td>\n",
              "      <td>160.4</td>\n",
              "      <td>64</td>\n",
              "      <td>3750</td>\n",
              "      <td>16</td>\n",
              "      <td>0</td>\n",
              "      <td>0</td>\n",
              "      <td>1</td>\n",
              "      <td>0</td>\n",
              "      <td>0</td>\n",
              "      <td>0</td>\n",
              "      <td>0</td>\n",
              "      <td>0</td>\n",
              "      <td>1</td>\n",
              "      <td>0</td>\n",
              "      <td>0</td>\n",
              "      <td>0</td>\n",
              "      <td>0</td>\n",
              "      <td>0</td>\n",
              "      <td>0</td>\n",
              "      <td>0</td>\n",
              "      <td>0</td>\n",
              "      <td>0</td>\n",
              "      <td>0</td>\n",
              "      <td>0</td>\n",
              "      <td>0</td>\n",
              "      <td>0</td>\n",
              "      <td>0</td>\n",
              "      <td>1</td>\n",
              "      <td>0</td>\n",
              "      <td>0</td>\n",
              "      <td>0</td>\n",
              "      <td>0</td>\n",
              "      <td>0</td>\n",
              "      <td>...</td>\n",
              "      <td>0</td>\n",
              "      <td>0</td>\n",
              "      <td>0</td>\n",
              "      <td>0</td>\n",
              "      <td>0</td>\n",
              "      <td>0</td>\n",
              "      <td>0</td>\n",
              "      <td>0</td>\n",
              "      <td>0</td>\n",
              "      <td>0</td>\n",
              "      <td>0</td>\n",
              "      <td>0</td>\n",
              "      <td>0</td>\n",
              "      <td>0</td>\n",
              "      <td>0</td>\n",
              "      <td>0</td>\n",
              "      <td>0</td>\n",
              "      <td>0</td>\n",
              "      <td>0</td>\n",
              "      <td>0</td>\n",
              "      <td>0</td>\n",
              "      <td>0</td>\n",
              "      <td>0</td>\n",
              "      <td>0</td>\n",
              "      <td>0</td>\n",
              "      <td>1</td>\n",
              "      <td>0</td>\n",
              "      <td>0</td>\n",
              "      <td>0</td>\n",
              "      <td>0</td>\n",
              "      <td>0</td>\n",
              "      <td>0</td>\n",
              "      <td>0</td>\n",
              "      <td>0</td>\n",
              "      <td>1</td>\n",
              "      <td>0</td>\n",
              "      <td>0</td>\n",
              "      <td>0</td>\n",
              "      <td>1</td>\n",
              "      <td>4.4</td>\n",
              "    </tr>\n",
              "  </tbody>\n",
              "</table>\n",
              "<p>5 rows × 88 columns</p>\n",
              "</div>"
            ],
            "text/plain": [
              "   PhoneId  Pixel Density  Screen Size  ...  Sim1_3G  Sim1_4G  Rating\n",
              "0        0            403         6.26  ...        0        1     4.5\n",
              "1        1            271         6.20  ...        0        1     4.5\n",
              "2        2            409         6.30  ...        0        1     4.4\n",
              "3        4            411         6.00  ...        0        1     4.3\n",
              "4        5            396         6.50  ...        0        1     4.4\n",
              "\n",
              "[5 rows x 88 columns]"
            ]
          },
          "metadata": {
            "tags": []
          },
          "execution_count": 101
        }
      ]
    },
    {
      "cell_type": "code",
      "metadata": {
        "id": "vE0MqSO3zt4I",
        "colab": {
          "base_uri": "https://localhost:8080/",
          "height": 34
        },
        "outputId": "b801b75b-0d5f-4dd9-803c-ca9bef0ddfb5"
      },
      "source": [
        "data.shape"
      ],
      "execution_count": null,
      "outputs": [
        {
          "output_type": "execute_result",
          "data": {
            "text/plain": [
              "(341, 88)"
            ]
          },
          "metadata": {
            "tags": []
          },
          "execution_count": 102
        }
      ]
    },
    {
      "cell_type": "code",
      "metadata": {
        "id": "odzIhPb4z36u"
      },
      "source": [
        "X=data.drop('Rating',axis=1)"
      ],
      "execution_count": null,
      "outputs": []
    },
    {
      "cell_type": "code",
      "metadata": {
        "id": "uB5Fg7jt0A_E"
      },
      "source": [
        "Y=data['Rating']"
      ],
      "execution_count": null,
      "outputs": []
    },
    {
      "cell_type": "code",
      "metadata": {
        "id": "hqxzCtSk0Ec-",
        "colab": {
          "base_uri": "https://localhost:8080/",
          "height": 221
        },
        "outputId": "70f55b9e-4f23-483b-a573-64f971dcee7f"
      },
      "source": [
        "Y"
      ],
      "execution_count": null,
      "outputs": [
        {
          "output_type": "execute_result",
          "data": {
            "text/plain": [
              "0      4.5\n",
              "1      4.5\n",
              "2      4.4\n",
              "3      4.3\n",
              "4      4.4\n",
              "      ... \n",
              "336    3.8\n",
              "337    3.9\n",
              "338    4.1\n",
              "339    3.6\n",
              "340    4.3\n",
              "Name: Rating, Length: 341, dtype: float64"
            ]
          },
          "metadata": {
            "tags": []
          },
          "execution_count": 105
        }
      ]
    },
    {
      "cell_type": "code",
      "metadata": {
        "id": "gXwJtTdU0GIB"
      },
      "source": [
        "threshold=4.2\n",
        "data['Class']=(data['Rating']>=threshold).astype(np.int)"
      ],
      "execution_count": null,
      "outputs": []
    },
    {
      "cell_type": "code",
      "metadata": {
        "id": "nJF2h8Qd0Uz0",
        "colab": {
          "base_uri": "https://localhost:8080/",
          "height": 68
        },
        "outputId": "64df31cb-7f8a-4250-deac-4b7cc409da99"
      },
      "source": [
        "data['Class'].value_counts()"
      ],
      "execution_count": null,
      "outputs": [
        {
          "output_type": "execute_result",
          "data": {
            "text/plain": [
              "0    182\n",
              "1    159\n",
              "Name: Class, dtype: int64"
            ]
          },
          "metadata": {
            "tags": []
          },
          "execution_count": 107
        }
      ]
    },
    {
      "cell_type": "code",
      "metadata": {
        "id": "guHMs2480cxi"
      },
      "source": [
        "Y_binarised=data['Class'].values"
      ],
      "execution_count": null,
      "outputs": []
    },
    {
      "cell_type": "markdown",
      "metadata": {
        "id": "RhSjufPJ0ygM"
      },
      "source": [
        "### Standardisation"
      ]
    },
    {
      "cell_type": "code",
      "metadata": {
        "id": "3wvb6gIH0uQI"
      },
      "source": [
        "from sklearn.preprocessing import StandardScaler\n",
        "scaler_X=StandardScaler()\n",
        "X_scaled_train=scaler_X.fit_transform(X_train)\n",
        "X_scaled_test=scaler_X.transform(X_test)"
      ],
      "execution_count": null,
      "outputs": []
    },
    {
      "cell_type": "code",
      "metadata": {
        "id": "wdpJfjl51PK1"
      },
      "source": [
        "R=np.random.random([100,1])"
      ],
      "execution_count": null,
      "outputs": []
    },
    {
      "cell_type": "code",
      "metadata": {
        "id": "gBWpNhpU1Th1",
        "colab": {
          "base_uri": "https://localhost:8080/",
          "height": 1000
        },
        "outputId": "1665bd59-9f92-44ed-ef9e-b4a48c9f0a3e"
      },
      "source": [
        "R"
      ],
      "execution_count": null,
      "outputs": [
        {
          "output_type": "execute_result",
          "data": {
            "text/plain": [
              "array([[0.84077756],\n",
              "       [0.66118106],\n",
              "       [0.84001126],\n",
              "       [0.42770045],\n",
              "       [0.03159021],\n",
              "       [0.54474157],\n",
              "       [0.16154455],\n",
              "       [0.80203342],\n",
              "       [0.37438977],\n",
              "       [0.89684746],\n",
              "       [0.20468912],\n",
              "       [0.82816625],\n",
              "       [0.2000463 ],\n",
              "       [0.30752959],\n",
              "       [0.73618716],\n",
              "       [0.35176818],\n",
              "       [0.62032906],\n",
              "       [0.49200444],\n",
              "       [0.89433221],\n",
              "       [0.70965111],\n",
              "       [0.99789226],\n",
              "       [0.35346484],\n",
              "       [0.82935095],\n",
              "       [0.42567169],\n",
              "       [0.5476201 ],\n",
              "       [0.92425141],\n",
              "       [0.92244341],\n",
              "       [0.20345559],\n",
              "       [0.77293206],\n",
              "       [0.4939029 ],\n",
              "       [0.61443046],\n",
              "       [0.27382315],\n",
              "       [0.12008945],\n",
              "       [0.20235385],\n",
              "       [0.75775902],\n",
              "       [0.89577505],\n",
              "       [0.87712088],\n",
              "       [0.62348937],\n",
              "       [0.76634436],\n",
              "       [0.56074054],\n",
              "       [0.41982469],\n",
              "       [0.27617257],\n",
              "       [0.09837262],\n",
              "       [0.77762073],\n",
              "       [0.63337626],\n",
              "       [0.39200013],\n",
              "       [0.67512699],\n",
              "       [0.04811791],\n",
              "       [0.11107361],\n",
              "       [0.53209642],\n",
              "       [0.63979422],\n",
              "       [0.58341573],\n",
              "       [0.92393369],\n",
              "       [0.50008152],\n",
              "       [0.98462406],\n",
              "       [0.11815774],\n",
              "       [0.9766709 ],\n",
              "       [0.10361089],\n",
              "       [0.96749221],\n",
              "       [0.74842116],\n",
              "       [0.68483116],\n",
              "       [0.47249063],\n",
              "       [0.96825953],\n",
              "       [0.03130896],\n",
              "       [0.46550495],\n",
              "       [0.66736071],\n",
              "       [0.75582398],\n",
              "       [0.74476904],\n",
              "       [0.40888714],\n",
              "       [0.81743604],\n",
              "       [0.63769579],\n",
              "       [0.88080892],\n",
              "       [0.71113545],\n",
              "       [0.84719024],\n",
              "       [0.71124898],\n",
              "       [0.52440654],\n",
              "       [0.34068746],\n",
              "       [0.68874729],\n",
              "       [0.75622969],\n",
              "       [0.43114489],\n",
              "       [0.06791145],\n",
              "       [0.99956783],\n",
              "       [0.40739773],\n",
              "       [0.28831367],\n",
              "       [0.05339194],\n",
              "       [0.94748401],\n",
              "       [0.95676416],\n",
              "       [0.9930534 ],\n",
              "       [0.50981807],\n",
              "       [0.5524493 ],\n",
              "       [0.37750384],\n",
              "       [0.41436473],\n",
              "       [0.73959788],\n",
              "       [0.66623136],\n",
              "       [0.85744554],\n",
              "       [0.48160095],\n",
              "       [0.85463921],\n",
              "       [0.4513253 ],\n",
              "       [0.15490903],\n",
              "       [0.44349897]])"
            ]
          },
          "metadata": {
            "tags": []
          },
          "execution_count": 111
        }
      ]
    },
    {
      "cell_type": "code",
      "metadata": {
        "id": "I1neZ-7d1T8L",
        "colab": {
          "base_uri": "https://localhost:8080/",
          "height": 282
        },
        "outputId": "b1a8b7f0-025b-411b-f35b-b781d8fcdf59"
      },
      "source": [
        "plt.plot(R)"
      ],
      "execution_count": null,
      "outputs": [
        {
          "output_type": "execute_result",
          "data": {
            "text/plain": [
              "[<matplotlib.lines.Line2D at 0x7f7e73b18cc0>]"
            ]
          },
          "metadata": {
            "tags": []
          },
          "execution_count": 112
        },
        {
          "output_type": "display_data",
          "data": {
            "image/png": "[encoded data removed]",
            "text/plain": [
              "<Figure size 432x288 with 1 Axes>"
            ]
          },
          "metadata": {
            "tags": [],
            "needs_background": "light"
          }
        }
      ]
    },
    {
      "cell_type": "code",
      "metadata": {
        "id": "mhypiTrt1jJy",
        "colab": {
          "base_uri": "https://localhost:8080/",
          "height": 34
        },
        "outputId": "dc10be2c-f464-4187-9b03-03648170b726"
      },
      "source": [
        "np.mean(R)"
      ],
      "execution_count": null,
      "outputs": [
        {
          "output_type": "execute_result",
          "data": {
            "text/plain": [
              "0.5736165190420945"
            ]
          },
          "metadata": {
            "tags": []
          },
          "execution_count": 113
        }
      ]
    },
    {
      "cell_type": "code",
      "metadata": {
        "id": "mJk9DDJo1l9L",
        "colab": {
          "base_uri": "https://localhost:8080/",
          "height": 34
        },
        "outputId": "5ea9f855-3148-4adc-eea2-f9d03c1f9c21"
      },
      "source": [
        "np.std(R)"
      ],
      "execution_count": null,
      "outputs": [
        {
          "output_type": "execute_result",
          "data": {
            "text/plain": [
              "0.2762258458901288"
            ]
          },
          "metadata": {
            "tags": []
          },
          "execution_count": 114
        }
      ]
    },
    {
      "cell_type": "code",
      "metadata": {
        "id": "Zi4xlBRp1nsJ"
      },
      "source": [
        "scaler=StandardScaler()"
      ],
      "execution_count": null,
      "outputs": []
    },
    {
      "cell_type": "code",
      "metadata": {
        "id": "kv2i79eN1qCs",
        "colab": {
          "base_uri": "https://localhost:8080/",
          "height": 34
        },
        "outputId": "0f405127-82b3-4e81-a7a7-4a7be162b313"
      },
      "source": [
        "scaler.fit(R)"
      ],
      "execution_count": null,
      "outputs": [
        {
          "output_type": "execute_result",
          "data": {
            "text/plain": [
              "StandardScaler(copy=True, with_mean=True, with_std=True)"
            ]
          },
          "metadata": {
            "tags": []
          },
          "execution_count": 116
        }
      ]
    },
    {
      "cell_type": "code",
      "metadata": {
        "id": "pLwK_HnQ1sBP"
      },
      "source": [
        "RR=scaler.transform(R)"
      ],
      "execution_count": null,
      "outputs": []
    },
    {
      "cell_type": "code",
      "metadata": {
        "id": "mGVJq1L_11m0",
        "colab": {
          "base_uri": "https://localhost:8080/",
          "height": 34
        },
        "outputId": "551e92d9-5c7f-4e67-c4e6-36bbbf963ed6"
      },
      "source": [
        "np.mean(RR)"
      ],
      "execution_count": null,
      "outputs": [
        {
          "output_type": "execute_result",
          "data": {
            "text/plain": [
              "-6.317169010117141e-16"
            ]
          },
          "metadata": {
            "tags": []
          },
          "execution_count": 118
        }
      ]
    },
    {
      "cell_type": "code",
      "metadata": {
        "id": "mQXXfut614sh",
        "colab": {
          "base_uri": "https://localhost:8080/",
          "height": 34
        },
        "outputId": "13e414c3-6076-4c48-b6de-3ec08d5095bf"
      },
      "source": [
        "np.std(RR)"
      ],
      "execution_count": null,
      "outputs": [
        {
          "output_type": "execute_result",
          "data": {
            "text/plain": [
              "0.9999999999999998"
            ]
          },
          "metadata": {
            "tags": []
          },
          "execution_count": 119
        }
      ]
    },
    {
      "cell_type": "code",
      "metadata": {
        "id": "Qr4ZFrIc19Br"
      },
      "source": [
        "from sklearn.model_selection import train_test_split"
      ],
      "execution_count": null,
      "outputs": []
    },
    {
      "cell_type": "code",
      "metadata": {
        "id": "jHQRKpCa2jAR"
      },
      "source": [
        "X_train, X_test, y_train, y_test = train_test_split(X, Y,random_state=0,stratify=Y_binarised)"
      ],
      "execution_count": null,
      "outputs": []
    },
    {
      "cell_type": "code",
      "metadata": {
        "id": "9mKbHcIj3E6L",
        "colab": {
          "base_uri": "https://localhost:8080/",
          "height": 34
        },
        "outputId": "7e34d671-9967-4bc6-b734-a89fc09cc9be"
      },
      "source": [
        "X_test.shape"
      ],
      "execution_count": null,
      "outputs": [
        {
          "output_type": "execute_result",
          "data": {
            "text/plain": [
              "(86, 87)"
            ]
          },
          "metadata": {
            "tags": []
          },
          "execution_count": 122
        }
      ]
    },
    {
      "cell_type": "code",
      "metadata": {
        "id": "h4RPHK9u3Hi3"
      },
      "source": [
        "scaler_X=StandardScaler()\n",
        "X_scaled_train=scaler_X.fit_transform(X_train)\n",
        "X_scaled_test=scaler_X.transform(X_test)"
      ],
      "execution_count": null,
      "outputs": []
    },
    {
      "cell_type": "code",
      "metadata": {
        "id": "YLxKe2-_6QSv"
      },
      "source": [
        "X_scaled_train=scaler_X.fit_transform(X_train)"
      ],
      "execution_count": null,
      "outputs": []
    },
    {
      "cell_type": "code",
      "metadata": {
        "id": "8fiBF4zi6aCk"
      },
      "source": [
        "X_scaled_test=scaler_X.transform(X_test)"
      ],
      "execution_count": null,
      "outputs": []
    },
    {
      "cell_type": "code",
      "metadata": {
        "id": "nPm9tdGi6gNw"
      },
      "source": [
        "from sklearn.preprocessing import MinMaxScaler"
      ],
      "execution_count": null,
      "outputs": []
    },
    {
      "cell_type": "code",
      "metadata": {
        "id": "vzY7UEWp7HRb"
      },
      "source": [
        "min_max_scaler=MinMaxScaler()"
      ],
      "execution_count": null,
      "outputs": []
    },
    {
      "cell_type": "code",
      "metadata": {
        "id": "7LUtLZ9w8aO8"
      },
      "source": [
        "y_train=np.array(y_train)"
      ],
      "execution_count": null,
      "outputs": []
    },
    {
      "cell_type": "code",
      "metadata": {
        "id": "WusDptnQ8S7P"
      },
      "source": [
        "y_scaled_train=min_max_scaler.fit_transform(y_train.reshape(-1,1))"
      ],
      "execution_count": null,
      "outputs": []
    },
    {
      "cell_type": "code",
      "metadata": {
        "id": "4My_2suz8wB4"
      },
      "source": [
        "y_scaled_test=min_max_scaler.transform(np.array(y_test).reshape(-1,1))"
      ],
      "execution_count": null,
      "outputs": []
    },
    {
      "cell_type": "code",
      "metadata": {
        "id": "EfmI-Ra69BY7"
      },
      "source": [
        "scaled_threshold=min_max_scaler.transform(np.asarray(threshold).reshape(-1,1))"
      ],
      "execution_count": null,
      "outputs": []
    },
    {
      "cell_type": "code",
      "metadata": {
        "id": "v1YZBIRj9ZPn",
        "colab": {
          "base_uri": "https://localhost:8080/",
          "height": 34
        },
        "outputId": "d22a882c-f688-4538-b4c3-067503fdec42"
      },
      "source": [
        "scaled_threshold[0][0]"
      ],
      "execution_count": null,
      "outputs": [
        {
          "output_type": "execute_result",
          "data": {
            "text/plain": [
              "0.6800000000000002"
            ]
          },
          "metadata": {
            "tags": []
          },
          "execution_count": 132
        }
      ]
    },
    {
      "cell_type": "code",
      "metadata": {
        "id": "OKFi7OfI9jJj"
      },
      "source": [
        "Y_binarised_train=(y_scaled_train>scaled_threshold).astype(\"int\").ravel()"
      ],
      "execution_count": null,
      "outputs": []
    },
    {
      "cell_type": "code",
      "metadata": {
        "id": "a3CAqX7N9-JO"
      },
      "source": [
        "Y_binarised_test=(y_scaled_test>scaled_threshold).astype(\"int\").ravel()"
      ],
      "execution_count": null,
      "outputs": []
    },
    {
      "cell_type": "code",
      "metadata": {
        "id": "IanWJYM_-DHb"
      },
      "source": [
        ""
      ],
      "execution_count": null,
      "outputs": []
    },
    {
      "cell_type": "markdown",
      "metadata": {
        "id": "EkVQ06JA-lVk"
      },
      "source": [
        "# Fitting"
      ]
    },
    {
      "cell_type": "code",
      "metadata": {
        "id": "DjS53aIx-jR-"
      },
      "source": [
        "sn=sigmoid_neuron()"
      ],
      "execution_count": null,
      "outputs": []
    },
    {
      "cell_type": "code",
      "metadata": {
        "id": "OkqFiXkP_JKA",
        "colab": {
          "base_uri": "https://localhost:8080/",
          "height": 872,
          "referenced_widgets": [
            "e49b078b8e484a5eada6f432c2ce5b36",
            "89dcff6e78af44999472c597f3b07d0b",
            "f2f005b3511b44bf9273c9380273932e",
            "b082b42150eb4e6abe5b025e83851ab5",
            "dbacc40030a44fbea4229377dea0ed01",
            "75c7ad54dd75439691793c13ae848fd4",
            "c11f5bdd79d145db9f648e77ca064639",
            "0ee7796517c04955bad0b353639741f4"
          ]
        },
        "outputId": "98cfe2a9-7de9-4149-e29c-04ed8cde2270"
      },
      "source": [
        "sn.fit(X_scaled_train,y_scaled_train,epochs=2000,lr=.01,display_loss=True)"
      ],
      "execution_count": null,
      "outputs": [
        {
          "output_type": "stream",
          "text": [
            "/usr/local/lib/python3.6/dist-packages/ipykernel_launcher.py:21: TqdmDeprecationWarning: This function will be removed in tqdm==5.0.0\n",
            "Please use `tqdm.notebook.tqdm` instead of `tqdm.tqdm_notebook`\n"
          ],
          "name": "stderr"
        },
        {
          "output_type": "display_data",
          "data": {
            "application/vnd.jupyter.widget-view+json": {
              "model_id": "e49b078b8e484a5eada6f432c2ce5b36",
              "version_minor": 0,
              "version_major": 2
            },
            "text/plain": [
              "HBox(children=(FloatProgress(value=0.0, max=2000.0), HTML(value='')))"
            ]
          },
          "metadata": {
            "tags": []
          }
        },
        {
          "output_type": "stream",
          "text": [
            "\n"
          ],
          "name": "stdout"
        },
        {
          "output_type": "execute_result",
          "data": {
            "text/plain": [
              "(array([[-4.63303686e-02,  6.70797698e-02, -1.67380956e-01,\n",
              "          5.14300672e-02, -9.31618805e-02,  1.81893053e-02,\n",
              "          1.49883108e-01, -2.76033715e-03, -3.85533685e-02,\n",
              "          1.09085188e-01, -1.82675790e-02, -4.34398155e-01,\n",
              "         -1.96812412e-01, -4.91810099e-01,  3.09499702e-01,\n",
              "          1.42248585e+00, -4.02008829e-02, -9.56714259e-01,\n",
              "         -2.05459655e-02,  6.30236695e-04,  8.43726005e-01,\n",
              "         -5.20864490e-02,  5.21979523e-01,  1.17361067e+00,\n",
              "          4.88871241e-02, -5.01804377e-01, -3.18450304e-01,\n",
              "         -4.61599775e-01, -4.56875110e-02, -3.80875702e-01,\n",
              "         -4.94479805e-01, -6.10086784e-01,  4.04537639e-01,\n",
              "         -5.82433345e-01, -7.75838611e-01, -3.82788936e-01,\n",
              "         -1.56178023e+00, -3.69182452e-01, -2.13622829e+00,\n",
              "         -3.39478417e-01, -2.28773929e-01, -7.95446033e-01,\n",
              "         -1.72879259e+00, -2.24307307e+00, -1.76880607e-01,\n",
              "         -7.50947989e-01,  8.42429304e-01, -2.62609808e-01,\n",
              "         -2.78242395e-01,  2.87014244e-01, -3.68905130e-01,\n",
              "         -2.35301910e+00, -2.31180921e-01, -9.00176837e-01,\n",
              "          2.17467834e+00, -6.19208608e-01, -2.63838182e+00,\n",
              "         -3.96835911e-01, -4.64488854e-01, -3.44782904e-01,\n",
              "         -1.22019930e+00,  1.07188375e+00, -1.02420050e+00,\n",
              "         -4.63683962e-01, -1.25300786e+00, -3.46849037e-01,\n",
              "          1.08179921e+00, -1.39020300e+00, -7.86826503e-01,\n",
              "         -7.17187996e-01,  9.47570933e-01,  2.41562015e+00,\n",
              "          4.08097325e-01,  1.63002517e-01, -7.00887520e-01,\n",
              "         -1.67725928e+00,  1.34634574e-01,  2.86746608e-01,\n",
              "          7.47319270e-01, -4.62701829e-01,  1.59594996e+00,\n",
              "          1.94352226e-01,  2.87368220e-01, -4.55998688e-01,\n",
              "          5.96966090e-03, -1.43624777e+00,  1.58748118e+00]]),\n",
              " array([-0.26208171]))"
            ]
          },
          "metadata": {
            "tags": []
          },
          "execution_count": 136
        },
        {
          "output_type": "display_data",
          "data": {
            "image/png": "[encoded data removed]",
            "text/plain": [
              "<Figure size 432x288 with 1 Axes>"
            ]
          },
          "metadata": {
            "tags": [],
            "needs_background": "light"
          }
        }
      ]
    },
    {
      "cell_type": "code",
      "metadata": {
        "id": "IYg2WVOY_cbN"
      },
      "source": [
        "Y_pred_train=sn.predict(X_scaled_train)\n",
        "Y_pred_test=sn.predict(X_scaled_test)\n",
        "Y_pred_binarised_train=(Y_pred_train>scaled_threshold).astype(\"int\").ravel()\n",
        "Y_pred_binarised_test=(Y_pred_test>scaled_threshold).astype(\"int\").ravel()"
      ],
      "execution_count": null,
      "outputs": []
    },
    {
      "cell_type": "code",
      "metadata": {
        "id": "Vx0vgRal_9VV"
      },
      "source": [
        "Y_pred_binarised_train=(Y_pred_train>scaled_threshold).astype(\"int\").ravel()\n",
        "Y_pred_binarised_test=(Y_pred_test>scaled_threshold).astype(\"int\").ravel()"
      ],
      "execution_count": null,
      "outputs": []
    },
    {
      "cell_type": "code",
      "metadata": {
        "id": "PrmjGS4cAUI6"
      },
      "source": [
        "from sklearn.metrics import accuracy_score"
      ],
      "execution_count": null,
      "outputs": []
    },
    {
      "cell_type": "code",
      "metadata": {
        "id": "Z9IYpYdjAjKZ"
      },
      "source": [
        "accuracy_train=accuracy_score(Y_pred_binarised_train,Y_binarised_train)"
      ],
      "execution_count": null,
      "outputs": []
    },
    {
      "cell_type": "code",
      "metadata": {
        "id": "wMCXtVOlBTiE",
        "colab": {
          "base_uri": "https://localhost:8080/",
          "height": 34
        },
        "outputId": "18353ca6-0de2-4b34-84fe-5a7cc01bed2a"
      },
      "source": [
        "accuracy_train"
      ],
      "execution_count": null,
      "outputs": [
        {
          "output_type": "execute_result",
          "data": {
            "text/plain": [
              "0.7333333333333333"
            ]
          },
          "metadata": {
            "tags": []
          },
          "execution_count": 141
        }
      ]
    },
    {
      "cell_type": "code",
      "metadata": {
        "id": "EVeRVtvPBec8"
      },
      "source": [
        "accuracy_test=accuracy_score(Y_pred_binarised_test,Y_binarised_test)"
      ],
      "execution_count": null,
      "outputs": []
    },
    {
      "cell_type": "code",
      "metadata": {
        "id": "X6xgDZKWB2Gl",
        "colab": {
          "base_uri": "https://localhost:8080/",
          "height": 34
        },
        "outputId": "54f2f711-7840-4e0c-aebe-09ec1f56ac48"
      },
      "source": [
        "accuracy_test"
      ],
      "execution_count": null,
      "outputs": [
        {
          "output_type": "execute_result",
          "data": {
            "text/plain": [
              "0.6511627906976745"
            ]
          },
          "metadata": {
            "tags": []
          },
          "execution_count": 143
        }
      ]
    },
    {
      "cell_type": "code",
      "metadata": {
        "id": "52lUGnZsiXME"
      },
      "source": [
        ""
      ],
      "execution_count": null,
      "outputs": []
    },
    {
      "cell_type": "markdown",
      "metadata": {
        "id": "znR8dmvTiYHG"
      },
      "source": [
        "# Sigmoid with CrossEntropy"
      ]
    },
    {
      "cell_type": "code",
      "metadata": {
        "id": "bZrGKrbzjYt0"
      },
      "source": [
        "from sklearn.metrics import log_loss"
      ],
      "execution_count": null,
      "outputs": []
    },
    {
      "cell_type": "code",
      "metadata": {
        "id": "IkKwh53iiecp",
        "colab": {
          "base_uri": "https://localhost:8080/",
          "height": 34
        },
        "outputId": "b86e39c4-3937-4483-e18f-7693a83b3cf8"
      },
      "source": [
        "class sigmoid_neuron_crossentropy:\n",
        "  def __init__(self):\n",
        "    self.w=None\n",
        "    self.b=None\n",
        "  def perceptron(self,x):\n",
        "    return np.dot(x,self.w.T)+self.b\n",
        "  def sigmoid(self,x):\n",
        "    return 1.0/(1.0+np.exp(-x))\n",
        "  def grad_w(self,x,y):\n",
        "    fx=self.sigmoid(self.perceptron(x))\n",
        "    return (fx-y)*x\n",
        "  def grad_b(self,x,y):\n",
        "    fx=self.sigmoid(self.perceptron(x))\n",
        "    return (fx-y)\n",
        "  def fit(self,X,Y,epochs=1,lr=.5,initialise=True,display_loss=False):\n",
        "    if(initialise):\n",
        "      self.w=np.random.randn(1,X.shape[1])\n",
        "      self.b=0\n",
        "    if(display_loss):\n",
        "      loss=[]\n",
        "    for i in tqdm_notebook(range(epochs),total=epochs,unit=\"epochs\"):\n",
        "      dw=0\n",
        "      db=0  \n",
        "      for x,y in zip(X,Y):\n",
        "        dw+=self.grad_w(x,y)\n",
        "        db+=self.grad_b(x,y)\n",
        "      self.w-=lr*dw\n",
        "      self.b-=lr*db\n",
        "      if display_loss:\n",
        "        Y_pred=self.sigmoid(self.perceptron(X))\n",
        "    if (display_loss):\n",
        "      plt.plot(loss)\n",
        "      plt.xlabel('Epochs')\n",
        "      plt.ylabel('loss')\n",
        "    return (self.w,self.b)\n",
        "  def predict(self,X):\n",
        "    Y_pred=[]\n",
        "    for x in X:\n",
        "      Y_pred.append(self.sigmoid(self.perceptron(x)))\n",
        "    return np.array(Y_pred)"
      ],
      "execution_count": null,
      "outputs": [
        {
          "output_type": "stream",
          "text": [
            "\n"
          ],
          "name": "stdout"
        }
      ]
    },
    {
      "cell_type": "code",
      "metadata": {
        "id": "qyRvoIhUkdX5"
      },
      "source": [
        "sn=sigmoid_neuron_crossentropy()"
      ],
      "execution_count": null,
      "outputs": []
    },
    {
      "cell_type": "code",
      "metadata": {
        "id": "C_UwAyJSlD8n",
        "colab": {
          "base_uri": "https://localhost:8080/",
          "height": 406,
          "referenced_widgets": [
            "198202860ee54b3c9b2a9465996ae59e",
            "33844bdb663142e49defe807c1e62c4e",
            "319db3d2644b4e8282f91c3dc700c1bb",
            "a81108bde4e8469dbaae270a40571b29",
            "ae75ad7e1e9c4755bd9356d725828789",
            "5c8ff51859ec464082ac98c5bb464ec4",
            "c1f68769a4f146f38ed3975599ba4a2c",
            "21e670bca744461e9406a8232eec7831"
          ]
        },
        "outputId": "06ede381-242b-4890-c677-bcfc08be4beb"
      },
      "source": [
        "sn.fit(X_scaled_train,y_scaled_train,epochs=5000,lr=.01)"
      ],
      "execution_count": null,
      "outputs": [
        {
          "output_type": "stream",
          "text": [
            "/usr/local/lib/python3.6/dist-packages/ipykernel_launcher.py:21: TqdmDeprecationWarning: This function will be removed in tqdm==5.0.0\n",
            "Please use `tqdm.notebook.tqdm` instead of `tqdm.tqdm_notebook`\n"
          ],
          "name": "stderr"
        },
        {
          "output_type": "display_data",
          "data": {
            "application/vnd.jupyter.widget-view+json": {
              "model_id": "198202860ee54b3c9b2a9465996ae59e",
              "version_minor": 0,
              "version_major": 2
            },
            "text/plain": [
              "HBox(children=(FloatProgress(value=0.0, max=5000.0), HTML(value='')))"
            ]
          },
          "metadata": {
            "tags": []
          }
        },
        {
          "output_type": "stream",
          "text": [
            "\n"
          ],
          "name": "stdout"
        },
        {
          "output_type": "execute_result",
          "data": {
            "text/plain": [
              "(array([[-0.22615961,  0.35569595,  0.98549722,  0.30246982, -0.47889045,\n",
              "          0.41704255, -0.21412813, -0.25855661,  0.36133355,  0.30670006,\n",
              "          0.36795232, -0.57188718, -0.2476541 , -0.24237532, -0.7571817 ,\n",
              "          0.33854578, -0.15278899,  0.07390253, -0.30404983, -0.26989731,\n",
              "          0.5714923 , -0.73659902, -0.03999196, -0.31022942,  0.53264712,\n",
              "         -0.49143826,  0.6824791 , -0.51911188, -0.40501307, -0.40215407,\n",
              "          0.40707876, -0.67636369, -0.17649544, -0.62916688, -0.6470157 ,\n",
              "         -0.34609656, -0.34335644, -0.37145975, -0.30681054, -0.26561594,\n",
              "          0.09836977, -0.62782597, -0.54221634, -0.44631183, -0.15601208,\n",
              "         -0.72150523,  0.21054087, -0.41409781, -0.33378467, -0.74785655,\n",
              "         -0.4055933 , -0.62755726, -0.06407472, -0.93647017,  0.30440976,\n",
              "         -0.47028288, -0.1386455 , -0.40148969, -0.61833511, -0.41137165,\n",
              "         -0.14002164,  0.32329592, -0.97946783, -0.46018168, -1.26363919,\n",
              "         -0.43223332, -0.05346934, -0.27245809, -0.70078895, -0.61092431,\n",
              "         -0.21211788, -0.51181468, -0.3204045 ,  1.20025863,  0.22255543,\n",
              "          0.15715501, -0.01895949, -0.10599971, -0.10193687, -0.34084617,\n",
              "         -0.07342549, -0.292998  ,  0.30572485,  0.17402878,  0.82708121,\n",
              "          0.45591842,  0.76857657]]), array([1.2222575]))"
            ]
          },
          "metadata": {
            "tags": []
          },
          "execution_count": 166
        }
      ]
    },
    {
      "cell_type": "code",
      "metadata": {
        "id": "UY4gnOlzlIrP"
      },
      "source": [
        "accuracy_train=accuracy_score(Y_pred_binarised_train,Y_binarised_train)\n",
        "accuracy_test=accuracy_score(Y_pred_binarised_test,Y_binarised_test)"
      ],
      "execution_count": null,
      "outputs": []
    },
    {
      "cell_type": "code",
      "metadata": {
        "id": "qE7tE0C6lxSe"
      },
      "source": [
        "Y_pred_train=sn.predict(X_scaled_train)\n",
        "Y_pred_test=sn.predict(X_scaled_test)\n",
        "Y_pred_binarised_train=(Y_pred_train>scaled_threshold).astype(\"int\").ravel()\n",
        "Y_pred_binarised_test=(Y_pred_test>scaled_threshold).astype(\"int\").ravel()"
      ],
      "execution_count": null,
      "outputs": []
    },
    {
      "cell_type": "code",
      "metadata": {
        "id": "CjWputM_lyk2",
        "colab": {
          "base_uri": "https://localhost:8080/",
          "height": 34
        },
        "outputId": "a9bab38e-0cc3-46c3-b4e1-688d6c7d841b"
      },
      "source": [
        "accuracy_train"
      ],
      "execution_count": null,
      "outputs": [
        {
          "output_type": "execute_result",
          "data": {
            "text/plain": [
              "0.6862745098039216"
            ]
          },
          "metadata": {
            "tags": []
          },
          "execution_count": 169
        }
      ]
    },
    {
      "cell_type": "code",
      "metadata": {
        "id": "BL63M-Zjl1jW",
        "colab": {
          "base_uri": "https://localhost:8080/",
          "height": 34
        },
        "outputId": "af23b3af-da98-495e-f354-cb9f5bec870f"
      },
      "source": [
        "accuracy_test"
      ],
      "execution_count": null,
      "outputs": [
        {
          "output_type": "execute_result",
          "data": {
            "text/plain": [
              "0.7441860465116279"
            ]
          },
          "metadata": {
            "tags": []
          },
          "execution_count": 170
        }
      ]
    },
    {
      "cell_type": "code",
      "metadata": {
        "id": "4CigpUrbmChu"
      },
      "source": [
        ""
      ],
      "execution_count": null,
      "outputs": []
    }
  ]
}