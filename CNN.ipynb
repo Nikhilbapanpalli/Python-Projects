{
 "cells": [
  {
   "cell_type": "code",
   "execution_count": 1,
   "metadata": {},
   "outputs": [],
   "source": [
    "import tensorflow as tf"
   ]
  },
  {
   "cell_type": "code",
   "execution_count": 2,
   "metadata": {},
   "outputs": [],
   "source": [
    "from tensorflow import keras"
   ]
  },
  {
   "cell_type": "code",
   "execution_count": 3,
   "metadata": {},
   "outputs": [],
   "source": [
    "Sequential=tf.keras.Sequential"
   ]
  },
  {
   "cell_type": "code",
   "execution_count": 4,
   "metadata": {},
   "outputs": [],
   "source": [
    "Convolution2D=tf.keras.layers.Conv2D"
   ]
  },
  {
   "cell_type": "code",
   "execution_count": 5,
   "metadata": {},
   "outputs": [],
   "source": [
    "Max_pooling_2D=tf.keras.layers.MaxPool2D"
   ]
  },
  {
   "cell_type": "code",
   "execution_count": 6,
   "metadata": {},
   "outputs": [],
   "source": [
    "Flatten=tf.keras.layers.Flatten"
   ]
  },
  {
   "cell_type": "code",
   "execution_count": 7,
   "metadata": {},
   "outputs": [],
   "source": [
    "Dense=tf.keras.layers.Dense"
   ]
  },
  {
   "cell_type": "code",
   "execution_count": 8,
   "metadata": {},
   "outputs": [],
   "source": [
    "classifier=Sequential()"
   ]
  },
  {
   "cell_type": "code",
   "execution_count": 9,
   "metadata": {},
   "outputs": [],
   "source": [
    "#convolution layer"
   ]
  },
  {
   "cell_type": "code",
   "execution_count": 11,
   "metadata": {},
   "outputs": [],
   "source": [
    "classifier.add(Convolution2D(32, (3, 3),data_format=\"channels_last\",input_shape = (64,64,3),activation = 'relu'))"
   ]
  },
  {
   "cell_type": "code",
   "execution_count": 12,
   "metadata": {},
   "outputs": [],
   "source": [
    "#pooling step"
   ]
  },
  {
   "cell_type": "code",
   "execution_count": 13,
   "metadata": {},
   "outputs": [],
   "source": [
    "classifier.add(Max_pooling_2D(pool_size=(2, 2)))"
   ]
  },
  {
   "cell_type": "code",
   "execution_count": 14,
   "metadata": {},
   "outputs": [],
   "source": [
    "classifier.add(Flatten(data_format=\"channels_last\"))"
   ]
  },
  {
   "cell_type": "code",
   "execution_count": 15,
   "metadata": {},
   "outputs": [],
   "source": [
    "##Adding Layer fully Connected Layer"
   ]
  },
  {
   "cell_type": "code",
   "execution_count": 16,
   "metadata": {},
   "outputs": [],
   "source": [
    "classifier.add(Dense(128,activation='relu'))\n",
    "classifier.add(Dense(1,activation='sigmoid'))"
   ]
  },
  {
   "cell_type": "code",
   "execution_count": 17,
   "metadata": {},
   "outputs": [
    {
     "name": "stdout",
     "output_type": "stream",
     "text": [
      "WARNING:tensorflow:From C:\\Users\\hp\\Anaconda3\\lib\\site-packages\\tensorflow_core\\python\\ops\\nn_impl.py:183: where (from tensorflow.python.ops.array_ops) is deprecated and will be removed in a future version.\n",
      "Instructions for updating:\n",
      "Use tf.where in 2.0, which has the same broadcast rule as np.where\n"
     ]
    }
   ],
   "source": [
    "classifier.compile(optimizer='adam',loss='binary_crossentropy',metrics=['accuracy'])"
   ]
  },
  {
   "cell_type": "code",
   "execution_count": 18,
   "metadata": {},
   "outputs": [
    {
     "name": "stdout",
     "output_type": "stream",
     "text": [
      "Found 8000 images belonging to 2 classes.\n",
      "Found 2000 images belonging to 2 classes.\n",
      "Epoch 1/8\n",
      "7999/8000 [============================>.] - ETA: 0s - loss: 0.3141 - acc: 0.8557Epoch 1/8\n",
      "8000/8000 [==============================] - 1612s 202ms/step - loss: 0.3141 - acc: 0.8557 - val_loss: 0.6799 - val_acc: 0.7891\n",
      "Epoch 2/8\n",
      "7999/8000 [============================>.] - ETA: 0s - loss: 0.0801 - acc: 0.9712Epoch 1/8\n",
      "8000/8000 [==============================] - 1601s 200ms/step - loss: 0.0801 - acc: 0.9712 - val_loss: 1.2258 - val_acc: 0.7970\n",
      "Epoch 3/8\n",
      "7999/8000 [============================>.] - ETA: 0s - loss: 0.0437 - acc: 0.9850Epoch 1/8\n",
      "8000/8000 [==============================] - 1739s 217ms/step - loss: 0.0437 - acc: 0.9850 - val_loss: 1.4194 - val_acc: 0.7999\n",
      "Epoch 4/8\n",
      "7999/8000 [============================>.] - ETA: 0s - loss: 0.0318 - acc: 0.9892Epoch 1/8\n",
      "8000/8000 [==============================] - 3095s 387ms/step - loss: 0.0318 - acc: 0.9892 - val_loss: 1.7308 - val_acc: 0.7920\n",
      "Epoch 5/8\n",
      "7999/8000 [============================>.] - ETA: 0s - loss: 0.0262 - acc: 0.9916Epoch 1/8\n",
      "8000/8000 [==============================] - 3343s 418ms/step - loss: 0.0262 - acc: 0.9916 - val_loss: 1.7516 - val_acc: 0.7936\n",
      "Epoch 6/8\n",
      "7999/8000 [============================>.] - ETA: 0s - loss: 0.0202 - acc: 0.9933Epoch 1/8\n",
      "8000/8000 [==============================] - 3168s 396ms/step - loss: 0.0202 - acc: 0.9933 - val_loss: 1.8489 - val_acc: 0.7988\n",
      "Epoch 7/8\n",
      "7999/8000 [============================>.] - ETA: 0s - loss: 0.0176 - acc: 0.9943  ETA:Epoch 1/8\n",
      "8000/8000 [==============================] - 2772s 346ms/step - loss: 0.0176 - acc: 0.9943 - val_loss: 1.7182 - val_acc: 0.8067\n",
      "Epoch 8/8\n",
      "7999/8000 [============================>.] - ETA: 0s - loss: 0.0160 - acc: 0.9951Epoch 1/8\n",
      "8000/8000 [==============================] - 1746s 218ms/step - loss: 0.0160 - acc: 0.9951 - val_loss: 1.8704 - val_acc: 0.7986\n"
     ]
    },
    {
     "data": {
      "text/plain": [
       "<tensorflow.python.keras.callbacks.History at 0x1a3d452a5c8>"
      ]
     },
     "execution_count": 18,
     "metadata": {},
     "output_type": "execute_result"
    }
   ],
   "source": [
    "ImageDataGenerator=tf.keras.preprocessing.image.ImageDataGenerator\n",
    "train_datagen = ImageDataGenerator(\n",
    "        rescale=1./255,\n",
    "        shear_range=0.2,\n",
    "        zoom_range=0.2,\n",
    "        horizontal_flip=True)\n",
    "\n",
    "test_datagen = ImageDataGenerator(rescale=1./255)\n",
    "\n",
    "train_generator = train_datagen.flow_from_directory(\n",
    "        'Documents/Machine Learning A-Z Template Folder/Part 8 - Deep Learning/Section 40 - Convolutional Neural Networks (CNN)/P14-Convolutional-Neural-Networks/Convolutional_Neural_Networks/dataset/training_set',\n",
    "        target_size=(64, 64),batch_size=32,\n",
    "        class_mode='binary')##as expected by cnn\n",
    "\n",
    "validation_generator = test_datagen.flow_from_directory(\n",
    "        'Documents/Machine Learning A-Z Template Folder/Part 8 - Deep Learning/Section 40 - Convolutional Neural Networks (CNN)/P14-Convolutional-Neural-Networks/Convolutional_Neural_Networks/dataset/test_set',\n",
    "        target_size=(64, 64),\n",
    "        batch_size=32,\n",
    "        class_mode='binary')\n",
    "\n",
    "classifier.fit_generator(\n",
    "        train_generator,\n",
    "        steps_per_epoch=8000,\n",
    "        epochs=8,\n",
    "        validation_data=validation_generator,\n",
    "        validation_steps=2000)\n"
   ]
  },
  {
   "cell_type": "code",
   "execution_count": 19,
   "metadata": {},
   "outputs": [],
   "source": [
    "import numpy as np"
   ]
  },
  {
   "cell_type": "code",
   "execution_count": 23,
   "metadata": {},
   "outputs": [],
   "source": [
    "Image=tf.keras.preprocessing.image"
   ]
  },
  {
   "cell_type": "code",
   "execution_count": 24,
   "metadata": {},
   "outputs": [],
   "source": [
    "test_image=Image.load_img(\"Desktop/DOG.jpg\",target_size=(64,64))"
   ]
  },
  {
   "cell_type": "code",
   "execution_count": 30,
   "metadata": {},
   "outputs": [
    {
     "data": {
      "text/plain": [
       "array([[[[255., 255., 255.],\n",
       "         [253., 253., 253.],\n",
       "         [216., 218., 207.],\n",
       "         ...,\n",
       "         [126., 117.,  60.],\n",
       "         [172., 168., 139.],\n",
       "         [177., 178., 162.]],\n",
       "\n",
       "        [[255., 255., 255.],\n",
       "         [249., 249., 249.],\n",
       "         [221., 223., 212.],\n",
       "         ...,\n",
       "         [123., 113.,  62.],\n",
       "         [181., 176., 156.],\n",
       "         [225., 223., 226.]],\n",
       "\n",
       "        [[212., 214., 201.],\n",
       "         [227., 228., 220.],\n",
       "         [219., 220., 212.],\n",
       "         ...,\n",
       "         [ 94.,  90.,  43.],\n",
       "         [199., 192., 163.],\n",
       "         [235., 235., 233.]],\n",
       "\n",
       "        ...,\n",
       "\n",
       "        [[ 82.,  54.,  40.],\n",
       "         [200., 183., 202.],\n",
       "         [217., 211., 225.],\n",
       "         ...,\n",
       "         [228., 202., 211.],\n",
       "         [233., 216., 200.],\n",
       "         [232., 214., 190.]],\n",
       "\n",
       "        [[167., 140., 129.],\n",
       "         [202., 192., 191.],\n",
       "         [189., 188., 204.],\n",
       "         ...,\n",
       "         [219., 190., 182.],\n",
       "         [219., 182., 166.],\n",
       "         [227., 204., 196.]],\n",
       "\n",
       "        [[203., 191., 201.],\n",
       "         [227., 226., 240.],\n",
       "         [210., 196., 211.],\n",
       "         ...,\n",
       "         [206., 170., 158.],\n",
       "         [211., 166., 147.],\n",
       "         [212., 175., 156.]]]], dtype=float32)"
      ]
     },
     "execution_count": 30,
     "metadata": {},
     "output_type": "execute_result"
    }
   ],
   "source": [
    "test_image"
   ]
  },
  {
   "cell_type": "code",
   "execution_count": 29,
   "metadata": {},
   "outputs": [],
   "source": [
    "test_image=Image.img_to_array(test_image)\n",
    "test_image=np.expand_dims(test_image,axis=0)"
   ]
  },
  {
   "cell_type": "code",
   "execution_count": 32,
   "metadata": {},
   "outputs": [],
   "source": [
    "result=classifier.predict(test_image)"
   ]
  },
  {
   "cell_type": "code",
   "execution_count": 33,
   "metadata": {},
   "outputs": [
    {
     "data": {
      "text/plain": [
       "{'cats': 0, 'dogs': 1}"
      ]
     },
     "execution_count": 33,
     "metadata": {},
     "output_type": "execute_result"
    }
   ],
   "source": [
    "train_generator.class_indices"
   ]
  },
  {
   "cell_type": "code",
   "execution_count": 41,
   "metadata": {},
   "outputs": [],
   "source": [
    "test_image=Image.load_img(\"Desktop/cat\",target_size=(64,64))\n",
    "test_image=Image.img_to_array(test_image)\n",
    "test_image=np.expand_dims(test_image,axis=0)\n",
    "result=classifier.predict(test_image)"
   ]
  },
  {
   "cell_type": "code",
   "execution_count": 42,
   "metadata": {},
   "outputs": [
    {
     "data": {
      "text/plain": [
       "array([[0.]], dtype=float32)"
      ]
     },
     "execution_count": 42,
     "metadata": {},
     "output_type": "execute_result"
    }
   ],
   "source": [
    "result"
   ]
  },
  {
   "cell_type": "code",
   "execution_count": null,
   "metadata": {},
   "outputs": [],
   "source": []
  }
 ],
 "metadata": {
  "kernelspec": {
   "display_name": "Python 3",
   "language": "python",
   "name": "python3"
  },
  "language_info": {
   "codemirror_mode": {
    "name": "ipython",
    "version": 3
   },
   "file_extension": ".py",
   "mimetype": "text/x-python",
   "name": "python",
   "nbconvert_exporter": "python",
   "pygments_lexer": "ipython3",
   "version": "3.7.4"
  }
 },
 "nbformat": 4,
 "nbformat_minor": 2
}
